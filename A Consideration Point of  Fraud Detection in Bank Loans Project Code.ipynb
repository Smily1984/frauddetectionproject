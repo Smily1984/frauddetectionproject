{
 "cells": [
  {
   "cell_type": "code",
   "execution_count": 1,
   "metadata": {},
   "outputs": [
    {
     "name": "stderr",
     "output_type": "stream",
     "text": [
      "Loading required package: lattice\n",
      "Loading required package: ggplot2\n",
      "── Attaching packages ─────────────────────────────────────── tidyverse 1.2.1 ──\n",
      "✔ tibble  2.0.1       ✔ purrr   0.3.0  \n",
      "✔ tidyr   0.8.2       ✔ dplyr   0.8.0.1\n",
      "✔ readr   1.3.1       ✔ stringr 1.4.0  \n",
      "✔ tibble  2.0.1       ✔ forcats 0.4.0  \n",
      "── Conflicts ────────────────────────────────────────── tidyverse_conflicts() ──\n",
      "✖ dplyr::filter() masks stats::filter()\n",
      "✖ dplyr::lag()    masks stats::lag()\n",
      "✖ purrr::lift()   masks caret::lift()\n",
      "\n",
      "Attaching package: ‘magrittr’\n",
      "\n",
      "The following object is masked from ‘package:purrr’:\n",
      "\n",
      "    set_names\n",
      "\n",
      "The following object is masked from ‘package:tidyr’:\n",
      "\n",
      "    extract\n",
      "\n"
     ]
    }
   ],
   "source": [
    "library(caret)\n",
    "library(tidyverse)\n",
    "library(magrittr)"
   ]
  },
  {
   "cell_type": "code",
   "execution_count": 2,
   "metadata": {},
   "outputs": [],
   "source": [
    "#The German Credit Dataset - https://archive.ics.uci.edu/ml/datasets/default+of+credit+card+clients\n",
    "#Input data\n",
    "pathgerman  <- (\"https://raw.githubusercontent.com/longtng/frauddetectionproject/master/german_credit.csv\")\n",
    "german <- read.csv(pathgerman,header = T)"
   ]
  },
  {
   "cell_type": "code",
   "execution_count": 3,
   "metadata": {
    "scrolled": true
   },
   "outputs": [
    {
     "name": "stdout",
     "output_type": "stream",
     "text": [
      "'data.frame':\t1000 obs. of  62 variables:\n",
      " $ Duration                              : int  6 48 12 42 24 36 24 36 12 30 ...\n",
      " $ Amount                                : int  1169 5951 2096 7882 4870 9055 2835 6948 3059 5234 ...\n",
      " $ InstallmentRatePercentage             : int  4 2 2 2 3 2 3 2 2 4 ...\n",
      " $ ResidenceDuration                     : int  4 2 3 4 4 4 4 2 4 2 ...\n",
      " $ Age                                   : int  67 22 49 45 53 35 53 35 61 28 ...\n",
      " $ NumberExistingCredits                 : int  2 1 1 1 2 1 1 1 1 2 ...\n",
      " $ NumberPeopleMaintenance               : int  1 1 2 2 2 2 1 1 1 1 ...\n",
      " $ Telephone                             : int  0 1 1 1 1 0 1 0 1 1 ...\n",
      " $ ForeignWorker                         : int  1 1 1 1 1 1 1 1 1 1 ...\n",
      " $ Class                                 : Factor w/ 2 levels \"Bad\",\"Good\": 2 1 2 2 1 2 2 2 2 1 ...\n",
      " $ CheckingAccountStatus.lt.0            : int  1 0 0 1 1 0 0 0 0 0 ...\n",
      " $ CheckingAccountStatus.0.to.200        : int  0 1 0 0 0 0 0 1 0 1 ...\n",
      " $ CheckingAccountStatus.gt.200          : int  0 0 0 0 0 0 0 0 0 0 ...\n",
      " $ CheckingAccountStatus.none            : int  0 0 1 0 0 1 1 0 1 0 ...\n",
      " $ CreditHistory.NoCredit.AllPaid        : int  0 0 0 0 0 0 0 0 0 0 ...\n",
      " $ CreditHistory.ThisBank.AllPaid        : int  0 0 0 0 0 0 0 0 0 0 ...\n",
      " $ CreditHistory.PaidDuly                : int  0 1 0 1 0 1 1 1 1 0 ...\n",
      " $ CreditHistory.Delay                   : int  0 0 0 0 1 0 0 0 0 0 ...\n",
      " $ CreditHistory.Critical                : int  1 0 1 0 0 0 0 0 0 1 ...\n",
      " $ Purpose.NewCar                        : int  0 0 0 0 1 0 0 0 0 1 ...\n",
      " $ Purpose.UsedCar                       : int  0 0 0 0 0 0 0 1 0 0 ...\n",
      " $ Purpose.Furniture.Equipment           : int  0 0 0 1 0 0 1 0 0 0 ...\n",
      " $ Purpose.Radio.Television              : int  1 1 0 0 0 0 0 0 1 0 ...\n",
      " $ Purpose.DomesticAppliance             : int  0 0 0 0 0 0 0 0 0 0 ...\n",
      " $ Purpose.Repairs                       : int  0 0 0 0 0 0 0 0 0 0 ...\n",
      " $ Purpose.Education                     : int  0 0 1 0 0 1 0 0 0 0 ...\n",
      " $ Purpose.Vacation                      : int  0 0 0 0 0 0 0 0 0 0 ...\n",
      " $ Purpose.Retraining                    : int  0 0 0 0 0 0 0 0 0 0 ...\n",
      " $ Purpose.Business                      : int  0 0 0 0 0 0 0 0 0 0 ...\n",
      " $ Purpose.Other                         : int  0 0 0 0 0 0 0 0 0 0 ...\n",
      " $ SavingsAccountBonds.lt.100            : int  0 1 1 1 1 0 0 1 0 1 ...\n",
      " $ SavingsAccountBonds.100.to.500        : int  0 0 0 0 0 0 0 0 0 0 ...\n",
      " $ SavingsAccountBonds.500.to.1000       : int  0 0 0 0 0 0 1 0 0 0 ...\n",
      " $ SavingsAccountBonds.gt.1000           : int  0 0 0 0 0 0 0 0 1 0 ...\n",
      " $ SavingsAccountBonds.Unknown           : int  1 0 0 0 0 1 0 0 0 0 ...\n",
      " $ EmploymentDuration.lt.1               : int  0 0 0 0 0 0 0 0 0 0 ...\n",
      " $ EmploymentDuration.1.to.4             : int  0 1 0 0 1 1 0 1 0 0 ...\n",
      " $ EmploymentDuration.4.to.7             : int  0 0 1 1 0 0 0 0 1 0 ...\n",
      " $ EmploymentDuration.gt.7               : int  1 0 0 0 0 0 1 0 0 0 ...\n",
      " $ EmploymentDuration.Unemployed         : int  0 0 0 0 0 0 0 0 0 1 ...\n",
      " $ Personal.Male.Divorced.Seperated      : int  0 0 0 0 0 0 0 0 1 0 ...\n",
      " $ Personal.Female.NotSingle             : int  0 1 0 0 0 0 0 0 0 0 ...\n",
      " $ Personal.Male.Single                  : int  1 0 1 1 1 1 1 1 0 0 ...\n",
      " $ Personal.Male.Married.Widowed         : int  0 0 0 0 0 0 0 0 0 1 ...\n",
      " $ Personal.Female.Single                : int  0 0 0 0 0 0 0 0 0 0 ...\n",
      " $ OtherDebtorsGuarantors.None           : int  1 1 1 0 1 1 1 1 1 1 ...\n",
      " $ OtherDebtorsGuarantors.CoApplicant    : int  0 0 0 0 0 0 0 0 0 0 ...\n",
      " $ OtherDebtorsGuarantors.Guarantor      : int  0 0 0 1 0 0 0 0 0 0 ...\n",
      " $ Property.RealEstate                   : int  1 1 1 0 0 0 0 0 1 0 ...\n",
      " $ Property.Insurance                    : int  0 0 0 1 0 0 1 0 0 0 ...\n",
      " $ Property.CarOther                     : int  0 0 0 0 0 0 0 1 0 1 ...\n",
      " $ Property.Unknown                      : int  0 0 0 0 1 1 0 0 0 0 ...\n",
      " $ OtherInstallmentPlans.Bank            : int  0 0 0 0 0 0 0 0 0 0 ...\n",
      " $ OtherInstallmentPlans.Stores          : int  0 0 0 0 0 0 0 0 0 0 ...\n",
      " $ OtherInstallmentPlans.None            : int  1 1 1 1 1 1 1 1 1 1 ...\n",
      " $ Housing.Rent                          : int  0 0 0 0 0 0 0 1 0 0 ...\n",
      " $ Housing.Own                           : int  1 1 1 0 0 0 1 0 1 1 ...\n",
      " $ Housing.ForFree                       : int  0 0 0 1 1 1 0 0 0 0 ...\n",
      " $ Job.UnemployedUnskilled               : int  0 0 0 0 0 0 0 0 0 0 ...\n",
      " $ Job.UnskilledResident                 : int  0 0 1 0 0 1 0 0 1 0 ...\n",
      " $ Job.SkilledEmployee                   : int  1 1 0 1 1 0 1 0 0 0 ...\n",
      " $ Job.Management.SelfEmp.HighlyQualified: int  0 0 0 0 0 0 0 1 0 1 ...\n"
     ]
    }
   ],
   "source": [
    "german %>% str()"
   ]
  },
  {
   "cell_type": "code",
   "execution_count": 4,
   "metadata": {},
   "outputs": [],
   "source": [
    "# Checking missing value for each column function\n",
    "naratio <- function(x) {100*sum(is.na(x)) / length(x)}"
   ]
  },
  {
   "cell_type": "code",
   "execution_count": 5,
   "metadata": {},
   "outputs": [
    {
     "data": {
      "text/html": [
       "<table>\n",
       "<thead><tr><th scope=col>Duration</th><th scope=col>Amount</th><th scope=col>InstallmentRatePercentage</th><th scope=col>ResidenceDuration</th><th scope=col>Age</th><th scope=col>NumberExistingCredits</th><th scope=col>NumberPeopleMaintenance</th><th scope=col>Telephone</th><th scope=col>ForeignWorker</th><th scope=col>Class</th><th scope=col>⋯</th><th scope=col>OtherInstallmentPlans.Bank</th><th scope=col>OtherInstallmentPlans.Stores</th><th scope=col>OtherInstallmentPlans.None</th><th scope=col>Housing.Rent</th><th scope=col>Housing.Own</th><th scope=col>Housing.ForFree</th><th scope=col>Job.UnemployedUnskilled</th><th scope=col>Job.UnskilledResident</th><th scope=col>Job.SkilledEmployee</th><th scope=col>Job.Management.SelfEmp.HighlyQualified</th></tr></thead>\n",
       "<tbody>\n",
       "\t<tr><td>0</td><td>0</td><td>0</td><td>0</td><td>0</td><td>0</td><td>0</td><td>0</td><td>0</td><td>0</td><td>⋯</td><td>0</td><td>0</td><td>0</td><td>0</td><td>0</td><td>0</td><td>0</td><td>0</td><td>0</td><td>0</td></tr>\n",
       "</tbody>\n",
       "</table>\n"
      ],
      "text/latex": [
       "\\begin{tabular}{r|llllllllllllllllllllllllllllllllllllllllllllllllllllllllllllll}\n",
       " Duration & Amount & InstallmentRatePercentage & ResidenceDuration & Age & NumberExistingCredits & NumberPeopleMaintenance & Telephone & ForeignWorker & Class & ⋯ & OtherInstallmentPlans.Bank & OtherInstallmentPlans.Stores & OtherInstallmentPlans.None & Housing.Rent & Housing.Own & Housing.ForFree & Job.UnemployedUnskilled & Job.UnskilledResident & Job.SkilledEmployee & Job.Management.SelfEmp.HighlyQualified\\\\\n",
       "\\hline\n",
       "\t 0 & 0 & 0 & 0 & 0 & 0 & 0 & 0 & 0 & 0 & ⋯ & 0 & 0 & 0 & 0 & 0 & 0 & 0 & 0 & 0 & 0\\\\\n",
       "\\end{tabular}\n"
      ],
      "text/markdown": [
       "\n",
       "| Duration | Amount | InstallmentRatePercentage | ResidenceDuration | Age | NumberExistingCredits | NumberPeopleMaintenance | Telephone | ForeignWorker | Class | ⋯ | OtherInstallmentPlans.Bank | OtherInstallmentPlans.Stores | OtherInstallmentPlans.None | Housing.Rent | Housing.Own | Housing.ForFree | Job.UnemployedUnskilled | Job.UnskilledResident | Job.SkilledEmployee | Job.Management.SelfEmp.HighlyQualified |\n",
       "|---|---|---|---|---|---|---|---|---|---|---|---|---|---|---|---|---|---|---|---|---|\n",
       "| 0 | 0 | 0 | 0 | 0 | 0 | 0 | 0 | 0 | 0 | ⋯ | 0 | 0 | 0 | 0 | 0 | 0 | 0 | 0 | 0 | 0 |\n",
       "\n"
      ],
      "text/plain": [
       "  Duration Amount InstallmentRatePercentage ResidenceDuration Age\n",
       "1 0        0      0                         0                 0  \n",
       "  NumberExistingCredits NumberPeopleMaintenance Telephone ForeignWorker Class ⋯\n",
       "1 0                     0                       0         0             0     ⋯\n",
       "  OtherInstallmentPlans.Bank OtherInstallmentPlans.Stores\n",
       "1 0                          0                           \n",
       "  OtherInstallmentPlans.None Housing.Rent Housing.Own Housing.ForFree\n",
       "1 0                          0            0           0              \n",
       "  Job.UnemployedUnskilled Job.UnskilledResident Job.SkilledEmployee\n",
       "1 0                       0                     0                  \n",
       "  Job.Management.SelfEmp.HighlyQualified\n",
       "1 0                                     "
      ]
     },
     "metadata": {},
     "output_type": "display_data"
    }
   ],
   "source": [
    "# Check on missing value\n",
    "options(warn = -1) \n",
    "german %>% summarise_all(funs(naratio))"
   ]
  },
  {
   "cell_type": "code",
   "execution_count": 6,
   "metadata": {},
   "outputs": [],
   "source": [
    "# split dataset into 80/20 \n",
    "set.seed(29)\n",
    "id <- createDataPartition(y = german$Class, p = 0.8, list = FALSE)\n",
    "\n",
    "train_data <- german[id, ]\n",
    "test_data <- german[-id, ]"
   ]
  },
  {
   "cell_type": "code",
   "execution_count": 7,
   "metadata": {},
   "outputs": [
    {
     "data": {
      "text/html": [
       "<table>\n",
       "<thead><tr><th scope=col>Duration</th><th scope=col>Amount</th><th scope=col>InstallmentRatePercentage</th><th scope=col>ResidenceDuration</th><th scope=col>Age</th><th scope=col>NumberExistingCredits</th><th scope=col>NumberPeopleMaintenance</th><th scope=col>Telephone</th><th scope=col>ForeignWorker</th><th scope=col>Class</th><th scope=col>⋯</th><th scope=col>OtherInstallmentPlans.Bank</th><th scope=col>OtherInstallmentPlans.Stores</th><th scope=col>OtherInstallmentPlans.None</th><th scope=col>Housing.Rent</th><th scope=col>Housing.Own</th><th scope=col>Housing.ForFree</th><th scope=col>Job.UnemployedUnskilled</th><th scope=col>Job.UnskilledResident</th><th scope=col>Job.SkilledEmployee</th><th scope=col>Job.Management.SelfEmp.HighlyQualified</th></tr></thead>\n",
       "<tbody>\n",
       "\t<tr><td> 6  </td><td>1169</td><td>4   </td><td>4   </td><td>67  </td><td>2   </td><td>1   </td><td>0   </td><td>1   </td><td>Good</td><td>⋯   </td><td>0   </td><td>0   </td><td>1   </td><td>0   </td><td>1   </td><td>0   </td><td>0   </td><td>0   </td><td>1   </td><td>0   </td></tr>\n",
       "\t<tr><td>48  </td><td>5951</td><td>2   </td><td>2   </td><td>22  </td><td>1   </td><td>1   </td><td>1   </td><td>1   </td><td>Bad </td><td>⋯   </td><td>0   </td><td>0   </td><td>1   </td><td>0   </td><td>1   </td><td>0   </td><td>0   </td><td>0   </td><td>1   </td><td>0   </td></tr>\n",
       "\t<tr><td>12  </td><td>2096</td><td>2   </td><td>3   </td><td>49  </td><td>1   </td><td>2   </td><td>1   </td><td>1   </td><td>Good</td><td>⋯   </td><td>0   </td><td>0   </td><td>1   </td><td>0   </td><td>1   </td><td>0   </td><td>0   </td><td>1   </td><td>0   </td><td>0   </td></tr>\n",
       "\t<tr><td>42  </td><td>7882</td><td>2   </td><td>4   </td><td>45  </td><td>1   </td><td>2   </td><td>1   </td><td>1   </td><td>Good</td><td>⋯   </td><td>0   </td><td>0   </td><td>1   </td><td>0   </td><td>0   </td><td>1   </td><td>0   </td><td>0   </td><td>1   </td><td>0   </td></tr>\n",
       "\t<tr><td>24  </td><td>4870</td><td>3   </td><td>4   </td><td>53  </td><td>2   </td><td>2   </td><td>1   </td><td>1   </td><td>Bad </td><td>⋯   </td><td>0   </td><td>0   </td><td>1   </td><td>0   </td><td>0   </td><td>1   </td><td>0   </td><td>0   </td><td>1   </td><td>0   </td></tr>\n",
       "</tbody>\n",
       "</table>\n"
      ],
      "text/latex": [
       "\\begin{tabular}{r|llllllllllllllllllllllllllllllllllllllllllllllllllllllllllllll}\n",
       " Duration & Amount & InstallmentRatePercentage & ResidenceDuration & Age & NumberExistingCredits & NumberPeopleMaintenance & Telephone & ForeignWorker & Class & ⋯ & OtherInstallmentPlans.Bank & OtherInstallmentPlans.Stores & OtherInstallmentPlans.None & Housing.Rent & Housing.Own & Housing.ForFree & Job.UnemployedUnskilled & Job.UnskilledResident & Job.SkilledEmployee & Job.Management.SelfEmp.HighlyQualified\\\\\n",
       "\\hline\n",
       "\t  6   & 1169 & 4    & 4    & 67   & 2    & 1    & 0    & 1    & Good & ⋯    & 0    & 0    & 1    & 0    & 1    & 0    & 0    & 0    & 1    & 0   \\\\\n",
       "\t 48   & 5951 & 2    & 2    & 22   & 1    & 1    & 1    & 1    & Bad  & ⋯    & 0    & 0    & 1    & 0    & 1    & 0    & 0    & 0    & 1    & 0   \\\\\n",
       "\t 12   & 2096 & 2    & 3    & 49   & 1    & 2    & 1    & 1    & Good & ⋯    & 0    & 0    & 1    & 0    & 1    & 0    & 0    & 1    & 0    & 0   \\\\\n",
       "\t 42   & 7882 & 2    & 4    & 45   & 1    & 2    & 1    & 1    & Good & ⋯    & 0    & 0    & 1    & 0    & 0    & 1    & 0    & 0    & 1    & 0   \\\\\n",
       "\t 24   & 4870 & 3    & 4    & 53   & 2    & 2    & 1    & 1    & Bad  & ⋯    & 0    & 0    & 1    & 0    & 0    & 1    & 0    & 0    & 1    & 0   \\\\\n",
       "\\end{tabular}\n"
      ],
      "text/markdown": [
       "\n",
       "| Duration | Amount | InstallmentRatePercentage | ResidenceDuration | Age | NumberExistingCredits | NumberPeopleMaintenance | Telephone | ForeignWorker | Class | ⋯ | OtherInstallmentPlans.Bank | OtherInstallmentPlans.Stores | OtherInstallmentPlans.None | Housing.Rent | Housing.Own | Housing.ForFree | Job.UnemployedUnskilled | Job.UnskilledResident | Job.SkilledEmployee | Job.Management.SelfEmp.HighlyQualified |\n",
       "|---|---|---|---|---|---|---|---|---|---|---|---|---|---|---|---|---|---|---|---|---|\n",
       "|  6   | 1169 | 4    | 4    | 67   | 2    | 1    | 0    | 1    | Good | ⋯    | 0    | 0    | 1    | 0    | 1    | 0    | 0    | 0    | 1    | 0    |\n",
       "| 48   | 5951 | 2    | 2    | 22   | 1    | 1    | 1    | 1    | Bad  | ⋯    | 0    | 0    | 1    | 0    | 1    | 0    | 0    | 0    | 1    | 0    |\n",
       "| 12   | 2096 | 2    | 3    | 49   | 1    | 2    | 1    | 1    | Good | ⋯    | 0    | 0    | 1    | 0    | 1    | 0    | 0    | 1    | 0    | 0    |\n",
       "| 42   | 7882 | 2    | 4    | 45   | 1    | 2    | 1    | 1    | Good | ⋯    | 0    | 0    | 1    | 0    | 0    | 1    | 0    | 0    | 1    | 0    |\n",
       "| 24   | 4870 | 3    | 4    | 53   | 2    | 2    | 1    | 1    | Bad  | ⋯    | 0    | 0    | 1    | 0    | 0    | 1    | 0    | 0    | 1    | 0    |\n",
       "\n"
      ],
      "text/plain": [
       "  Duration Amount InstallmentRatePercentage ResidenceDuration Age\n",
       "1  6       1169   4                         4                 67 \n",
       "2 48       5951   2                         2                 22 \n",
       "3 12       2096   2                         3                 49 \n",
       "4 42       7882   2                         4                 45 \n",
       "5 24       4870   3                         4                 53 \n",
       "  NumberExistingCredits NumberPeopleMaintenance Telephone ForeignWorker Class ⋯\n",
       "1 2                     1                       0         1             Good  ⋯\n",
       "2 1                     1                       1         1             Bad   ⋯\n",
       "3 1                     2                       1         1             Good  ⋯\n",
       "4 1                     2                       1         1             Good  ⋯\n",
       "5 2                     2                       1         1             Bad   ⋯\n",
       "  OtherInstallmentPlans.Bank OtherInstallmentPlans.Stores\n",
       "1 0                          0                           \n",
       "2 0                          0                           \n",
       "3 0                          0                           \n",
       "4 0                          0                           \n",
       "5 0                          0                           \n",
       "  OtherInstallmentPlans.None Housing.Rent Housing.Own Housing.ForFree\n",
       "1 1                          0            1           0              \n",
       "2 1                          0            1           0              \n",
       "3 1                          0            1           0              \n",
       "4 1                          0            0           1              \n",
       "5 1                          0            0           1              \n",
       "  Job.UnemployedUnskilled Job.UnskilledResident Job.SkilledEmployee\n",
       "1 0                       0                     1                  \n",
       "2 0                       0                     1                  \n",
       "3 0                       1                     0                  \n",
       "4 0                       0                     1                  \n",
       "5 0                       0                     1                  \n",
       "  Job.Management.SelfEmp.HighlyQualified\n",
       "1 0                                     \n",
       "2 0                                     \n",
       "3 0                                     \n",
       "4 0                                     \n",
       "5 0                                     "
      ]
     },
     "metadata": {},
     "output_type": "display_data"
    }
   ],
   "source": [
    "head(train_data,5)"
   ]
  },
  {
   "cell_type": "code",
   "execution_count": 8,
   "metadata": {},
   "outputs": [],
   "source": [
    "#------------------------\n",
    "#   XGboost\n",
    "#------------------------\n",
    "# cross - validation condition setup\n",
    "ctrl <- trainControl(method = \"repeatedcv\", number = 5, repeats = 6, summaryFunction = multiClassSummary)"
   ]
  },
  {
   "cell_type": "code",
   "execution_count": 9,
   "metadata": {},
   "outputs": [],
   "source": [
    "#----------------\n",
    "#   XGBoost\n",
    "#----------------\n",
    "set.seed(29)\n",
    "model_xgb_null2 <- train(Class ~ ., data = train_data, method = \"xgbTree\", preProcess = NULL, trControl = ctrl)"
   ]
  },
  {
   "cell_type": "code",
   "execution_count": 10,
   "metadata": {},
   "outputs": [
    {
     "data": {
      "text/plain": [
       "Confusion Matrix and Statistics\n",
       "\n",
       "          Reference\n",
       "Prediction Bad Good\n",
       "      Bad   28   18\n",
       "      Good  32  122\n",
       "                                         \n",
       "               Accuracy : 0.75           \n",
       "                 95% CI : (0.684, 0.8084)\n",
       "    No Information Rate : 0.7            \n",
       "    P-Value [Acc > NIR] : 0.06955        \n",
       "                                         \n",
       "                  Kappa : 0.3622         \n",
       " Mcnemar's Test P-Value : 0.06599        \n",
       "                                         \n",
       "            Sensitivity : 0.4667         \n",
       "            Specificity : 0.8714         \n",
       "         Pos Pred Value : 0.6087         \n",
       "         Neg Pred Value : 0.7922         \n",
       "             Prevalence : 0.3000         \n",
       "         Detection Rate : 0.1400         \n",
       "   Detection Prevalence : 0.2300         \n",
       "      Balanced Accuracy : 0.6690         \n",
       "                                         \n",
       "       'Positive' Class : Bad            \n",
       "                                         "
      ]
     },
     "metadata": {},
     "output_type": "display_data"
    }
   ],
   "source": [
    "# output: \n",
    "pred1 <- predict(model_xgb_null2, test_data)\n",
    "confusionMatrix(pred1, test_data$Class)"
   ]
  },
  {
   "cell_type": "code",
   "execution_count": 11,
   "metadata": {},
   "outputs": [],
   "source": [
    "#------------------\n",
    "#   Logistic\n",
    "#------------------\n",
    "options(warn=-1)\n",
    "model_logit_null2 <- train(Class ~ ., data = train_data, method = \"glm\", \n",
    "                           family = \"binomial\", preProcess = NULL, trControl = ctrl)"
   ]
  },
  {
   "cell_type": "code",
   "execution_count": 12,
   "metadata": {},
   "outputs": [
    {
     "data": {
      "text/plain": [
       "Confusion Matrix and Statistics\n",
       "\n",
       "          Reference\n",
       "Prediction Bad Good\n",
       "      Bad   32   19\n",
       "      Good  28  121\n",
       "                                       \n",
       "               Accuracy : 0.765        \n",
       "                 95% CI : (0.7, 0.8219)\n",
       "    No Information Rate : 0.7          \n",
       "    P-Value [Acc > NIR] : 0.02493      \n",
       "                                       \n",
       "                  Kappa : 0.4154       \n",
       " Mcnemar's Test P-Value : 0.24324      \n",
       "                                       \n",
       "            Sensitivity : 0.5333       \n",
       "            Specificity : 0.8643       \n",
       "         Pos Pred Value : 0.6275       \n",
       "         Neg Pred Value : 0.8121       \n",
       "             Prevalence : 0.3000       \n",
       "         Detection Rate : 0.1600       \n",
       "   Detection Prevalence : 0.2550       \n",
       "      Balanced Accuracy : 0.6988       \n",
       "                                       \n",
       "       'Positive' Class : Bad          \n",
       "                                       "
      ]
     },
     "metadata": {},
     "output_type": "display_data"
    }
   ],
   "source": [
    "# output of Logistic: \n",
    "options(warn=-1)\n",
    "pred2 <- predict(model_logit_null2, test_data)\n",
    "confusionMatrix(pred2, test_data$Class)"
   ]
  },
  {
   "cell_type": "code",
   "execution_count": 13,
   "metadata": {},
   "outputs": [],
   "source": [
    "#------------------\n",
    "#   KNN\n",
    "#------------------\n",
    "options(warn=-1)\n",
    "model_KNN_null2 <- train(Class ~ ., data = train_data, method = \"knn\", preProcess = NULL, trControl = ctrl)"
   ]
  },
  {
   "cell_type": "code",
   "execution_count": 14,
   "metadata": {},
   "outputs": [
    {
     "data": {
      "text/plain": [
       "Confusion Matrix and Statistics\n",
       "\n",
       "          Reference\n",
       "Prediction Bad Good\n",
       "      Bad   11   15\n",
       "      Good  49  125\n",
       "                                         \n",
       "               Accuracy : 0.68           \n",
       "                 95% CI : (0.6105, 0.744)\n",
       "    No Information Rate : 0.7            \n",
       "    P-Value [Acc > NIR] : 0.7579         \n",
       "                                         \n",
       "                  Kappa : 0.0909         \n",
       " Mcnemar's Test P-Value : 3.707e-05      \n",
       "                                         \n",
       "            Sensitivity : 0.1833         \n",
       "            Specificity : 0.8929         \n",
       "         Pos Pred Value : 0.4231         \n",
       "         Neg Pred Value : 0.7184         \n",
       "             Prevalence : 0.3000         \n",
       "         Detection Rate : 0.0550         \n",
       "   Detection Prevalence : 0.1300         \n",
       "      Balanced Accuracy : 0.5381         \n",
       "                                         \n",
       "       'Positive' Class : Bad            \n",
       "                                         "
      ]
     },
     "metadata": {},
     "output_type": "display_data"
    }
   ],
   "source": [
    "# output of KNN: \n",
    "options(warn=-1)\n",
    "predKNN <- predict(model_KNN_null2, test_data)\n",
    "confusionMatrix(predKNN, test_data$Class)"
   ]
  },
  {
   "cell_type": "code",
   "execution_count": 15,
   "metadata": {},
   "outputs": [],
   "source": [
    "#------------------\n",
    "#   Random Forest\n",
    "#------------------\n",
    "options(warn=-1)\n",
    "model_RF_null2 <- train(Class ~ ., data = train_data, method = \"rf\", preProcess = NULL, trControl = ctrl)"
   ]
  },
  {
   "cell_type": "code",
   "execution_count": 16,
   "metadata": {},
   "outputs": [
    {
     "data": {
      "text/plain": [
       "Confusion Matrix and Statistics\n",
       "\n",
       "          Reference\n",
       "Prediction Bad Good\n",
       "      Bad   30   15\n",
       "      Good  30  125\n",
       "                                          \n",
       "               Accuracy : 0.775           \n",
       "                 95% CI : (0.7108, 0.8309)\n",
       "    No Information Rate : 0.7             \n",
       "    P-Value [Acc > NIR] : 0.01113         \n",
       "                                          \n",
       "                  Kappa : 0.4231          \n",
       " Mcnemar's Test P-Value : 0.03689         \n",
       "                                          \n",
       "            Sensitivity : 0.5000          \n",
       "            Specificity : 0.8929          \n",
       "         Pos Pred Value : 0.6667          \n",
       "         Neg Pred Value : 0.8065          \n",
       "             Prevalence : 0.3000          \n",
       "         Detection Rate : 0.1500          \n",
       "   Detection Prevalence : 0.2250          \n",
       "      Balanced Accuracy : 0.6964          \n",
       "                                          \n",
       "       'Positive' Class : Bad             \n",
       "                                          "
      ]
     },
     "metadata": {},
     "output_type": "display_data"
    }
   ],
   "source": [
    "# output of Random Forest: \n",
    "options(warn=-1)\n",
    "predRF <- predict(model_RF_null2, test_data)\n",
    "confusionMatrix(predRF, test_data$Class)"
   ]
  },
  {
   "cell_type": "code",
   "execution_count": 17,
   "metadata": {},
   "outputs": [],
   "source": [
    "#------------------\n",
    "#   Support Vector Machine\n",
    "#------------------\n",
    "options(warn=-1)\n",
    "model_SVM_null2 <- train(Class ~ ., data = train_data, method = \"svmLinear\", preProcess = NULL, trControl = ctrl)"
   ]
  },
  {
   "cell_type": "code",
   "execution_count": 18,
   "metadata": {},
   "outputs": [
    {
     "data": {
      "text/plain": [
       "Confusion Matrix and Statistics\n",
       "\n",
       "          Reference\n",
       "Prediction Bad Good\n",
       "      Bad   16    7\n",
       "      Good  44  133\n",
       "                                          \n",
       "               Accuracy : 0.745           \n",
       "                 95% CI : (0.6787, 0.8039)\n",
       "    No Information Rate : 0.7             \n",
       "    P-Value [Acc > NIR] : 0.09344         \n",
       "                                          \n",
       "                  Kappa : 0.263           \n",
       " Mcnemar's Test P-Value : 4.631e-07       \n",
       "                                          \n",
       "            Sensitivity : 0.2667          \n",
       "            Specificity : 0.9500          \n",
       "         Pos Pred Value : 0.6957          \n",
       "         Neg Pred Value : 0.7514          \n",
       "             Prevalence : 0.3000          \n",
       "         Detection Rate : 0.0800          \n",
       "   Detection Prevalence : 0.1150          \n",
       "      Balanced Accuracy : 0.6083          \n",
       "                                          \n",
       "       'Positive' Class : Bad             \n",
       "                                          "
      ]
     },
     "metadata": {},
     "output_type": "display_data"
    }
   ],
   "source": [
    "# output of SVM: \n",
    "options(warn=-1)\n",
    "predSVM <- predict(model_SVM_null2, test_data)\n",
    "confusionMatrix(predSVM, test_data$Class)"
   ]
  },
  {
   "cell_type": "code",
   "execution_count": 19,
   "metadata": {},
   "outputs": [],
   "source": [
    "#plotting results\n",
    "my_box_plot <- function(model1, model2, model3, model4, model5) {\n",
    "  \n",
    "  u1 <- model1$resample %>% \n",
    "    select(-Resample) %>% \n",
    "    mutate(Model = \"XGBoost\")\n",
    "    \n",
    "  u2 <- model2$resample %>% \n",
    "    select(-Resample) %>% \n",
    "    mutate(Model = \"Logistic\")\n",
    "    \n",
    "  u3 <- model3$resample %>% \n",
    "    select(-Resample) %>% \n",
    "    mutate(Model = \"KNN\")\n",
    "  \n",
    "  u4 <- model4$resample %>% \n",
    "    select(-Resample) %>% \n",
    "    mutate(Model = \"Random Forest\")  \n",
    "  \n",
    "  u5 <- model5$resample %>% \n",
    "    select(-Resample) %>% \n",
    "    mutate(Model = \"SVM\") \n",
    "    \n",
    "  all_results <- rbind(u1, u2, u3, u4, u5)\n",
    "  \n",
    "  plot <- all_results_4 <- all_results %>% \n",
    "    select(Accuracy, Pos_Pred_Value, Neg_Pred_Value, Kappa, Model) %>% \n",
    "    gather(Criteria, Value, -Model) %>% \n",
    "    ggplot(aes(Model, Value, color = Model, fill = Model)) + \n",
    "    geom_boxplot(alpha = 0.3, show.legend = FALSE) + \n",
    "    facet_wrap(~ Criteria, scales = \"free\") + \n",
    "    coord_flip() + \n",
    "    theme_minimal() + \n",
    "    labs(x = NULL, y = NULL,  \n",
    "         title = \"A comparison between two models based on four Criterion\")\n",
    "  \n",
    "  return(plot)   \n",
    "}"
   ]
  },
  {
   "cell_type": "code",
   "execution_count": 20,
   "metadata": {},
   "outputs": [
    {
     "data": {
      "image/png": "[encoded data removed]",
      "text/plain": [
       "plot without title"
      ]
     },
     "metadata": {},
     "output_type": "display_data"
    }
   ],
   "source": [
    "options(repr.plot.width = 10, repr.plot.height = 8)\n",
    "my_box_plot(model1 = model_xgb_null2, model2 = model_logit_null2, model3 = model_KNN_null2, \n",
    "            model4 = model_RF_null2, model5 = model_SVM_null2) + \n",
    "  labs(subtitle = \"Data: german_credit.csv\")"
   ]
  },
  {
   "cell_type": "code",
   "execution_count": 21,
   "metadata": {},
   "outputs": [
    {
     "name": "stderr",
     "output_type": "stream",
     "text": [
      "\n",
      "Attaching package: ‘caretEnsemble’\n",
      "\n",
      "The following object is masked from ‘package:ggplot2’:\n",
      "\n",
      "    autoplot\n",
      "\n"
     ]
    }
   ],
   "source": [
    "library(caretEnsemble)"
   ]
  },
  {
   "cell_type": "code",
   "execution_count": 22,
   "metadata": {},
   "outputs": [],
   "source": [
    "set.seed(1)\n",
    "myControl <- trainControl(method=\"cv\", number=5, summaryFunction = multiClassSummary)\n",
    "model_list1 <- caretList(Class ~., data = train_data, trControl = myControl, metric = 'Accuracy', \n",
    "                         methodList = c(\"glm\", \"rf\", \"svmLinear\", \"knn\", \"xgbTree\")\n",
    "                        )"
   ]
  },
  {
   "cell_type": "code",
   "execution_count": 23,
   "metadata": {},
   "outputs": [],
   "source": [
    "# gathering result\n",
    "total_df <- bind_rows(model_list1$glm$resample %>% \n",
    "                        select(-Resample) %>% \n",
    "                        mutate(Model = \"Logistic\"), \n",
    "                      \n",
    "                      model_list1$rf$resample %>% \n",
    "                        select(-Resample) %>% \n",
    "                        mutate(Model = \"RF\"), \n",
    "                      \n",
    "                      model_list1$knn$resample %>% \n",
    "                        select(-Resample) %>% \n",
    "                        mutate(Model = \"KNN\"), \n",
    "                      \n",
    "                      model_list1$svmLinear$resample %>% \n",
    "                        select(-Resample) %>% \n",
    "                        mutate(Model = \"SVM\"), \n",
    "                      \n",
    "                      model_list1$xgbTree$resample %>% \n",
    "                        select(-Resample) %>% \n",
    "                        mutate(Model = \"XgbTree\"),\n",
    "                     )"
   ]
  },
  {
   "cell_type": "code",
   "execution_count": 24,
   "metadata": {},
   "outputs": [
    {
     "data": {
      "text/plain": [
       "$glm\n",
       "Generalized Linear Model \n",
       "\n",
       "800 samples\n",
       " 61 predictor\n",
       "  2 classes: 'Bad', 'Good' \n",
       "\n",
       "No pre-processing\n",
       "Resampling: Cross-Validated (5 fold) \n",
       "Summary of sample sizes: 640, 640, 640, 640, 640 \n",
       "Resampling results:\n",
       "\n",
       "  Accuracy  Kappa      F1         Sensitivity  Specificity  Pos_Pred_Value\n",
       "  0.74125   0.3442956  0.5174571  0.4625       0.8607143    0.5892711     \n",
       "  Neg_Pred_Value  Precision  Recall  Detection_Rate  Balanced_Accuracy\n",
       "  0.7889118       0.5892711  0.4625  0.13875         0.6616071        \n",
       "\n",
       "\n",
       "$rf\n",
       "Random Forest \n",
       "\n",
       "800 samples\n",
       " 61 predictor\n",
       "  2 classes: 'Bad', 'Good' \n",
       "\n",
       "No pre-processing\n",
       "Resampling: Cross-Validated (5 fold) \n",
       "Summary of sample sizes: 640, 640, 640, 640, 640 \n",
       "Resampling results across tuning parameters:\n",
       "\n",
       "  mtry  Accuracy  Kappa       F1         Sensitivity  Specificity\n",
       "   2    0.71625   0.08292286  0.1224083  0.06666667   0.9946429  \n",
       "  31    0.74500   0.33617769  0.4995445  0.42500000   0.8821429  \n",
       "  61    0.73625   0.32466915  0.4984686  0.43750000   0.8642857  \n",
       "  Pos_Pred_Value  Neg_Pred_Value  Precision  Recall      Detection_Rate\n",
       "  0.8833333       0.7132248       0.8833333  0.06666667  0.02000       \n",
       "  0.6127260       0.7817733       0.6127260  0.42500000  0.12750       \n",
       "  0.5828571       0.7820083       0.5828571  0.43750000  0.13125       \n",
       "  Balanced_Accuracy\n",
       "  0.5306548        \n",
       "  0.6535714        \n",
       "  0.6508929        \n",
       "\n",
       "Accuracy was used to select the optimal model using the largest value.\n",
       "The final value used for the model was mtry = 31.\n",
       "\n",
       "$svmLinear\n",
       "Support Vector Machines with Linear Kernel \n",
       "\n",
       "800 samples\n",
       " 61 predictor\n",
       "  2 classes: 'Bad', 'Good' \n",
       "\n",
       "No pre-processing\n",
       "Resampling: Cross-Validated (5 fold) \n",
       "Summary of sample sizes: 640, 640, 640, 640, 640 \n",
       "Resampling results:\n",
       "\n",
       "  Accuracy  Kappa      F1         Sensitivity  Specificity  Pos_Pred_Value\n",
       "  0.70875   0.2061642  0.3754318  0.2958333    0.8857143    0.521303      \n",
       "  Neg_Pred_Value  Precision  Recall     Detection_Rate  Balanced_Accuracy\n",
       "  0.746241        0.521303   0.2958333  0.08875         0.5907738        \n",
       "\n",
       "Tuning parameter 'C' was held constant at a value of 1\n",
       "\n",
       "$knn\n",
       "k-Nearest Neighbors \n",
       "\n",
       "800 samples\n",
       " 61 predictor\n",
       "  2 classes: 'Bad', 'Good' \n",
       "\n",
       "No pre-processing\n",
       "Resampling: Cross-Validated (5 fold) \n",
       "Summary of sample sizes: 640, 640, 640, 640, 640 \n",
       "Resampling results across tuning parameters:\n",
       "\n",
       "  k  Accuracy  Kappa       F1         Sensitivity  Specificity  Pos_Pred_Value\n",
       "  5  0.65500   0.07788497  0.2887805  0.2333333    0.8357143    0.3803050     \n",
       "  7  0.66375   0.08940503  0.2871515  0.2250000    0.8517857    0.4073436     \n",
       "  9  0.66875   0.06179484  0.2327249  0.1666667    0.8839286    0.3947368     \n",
       "  Neg_Pred_Value  Precision  Recall     Detection_Rate  Balanced_Accuracy\n",
       "  0.7177045       0.3803050  0.2333333  0.0700          0.5345238        \n",
       "  0.7190070       0.4073436  0.2250000  0.0675          0.5383929        \n",
       "  0.7119150       0.3947368  0.1666667  0.0500          0.5252976        \n",
       "\n",
       "Accuracy was used to select the optimal model using the largest value.\n",
       "The final value used for the model was k = 9.\n",
       "\n",
       "$xgbTree\n",
       "eXtreme Gradient Boosting \n",
       "\n",
       "800 samples\n",
       " 61 predictor\n",
       "  2 classes: 'Bad', 'Good' \n",
       "\n",
       "No pre-processing\n",
       "Resampling: Cross-Validated (5 fold) \n",
       "Summary of sample sizes: 640, 640, 640, 640, 640 \n",
       "Resampling results across tuning parameters:\n",
       "\n",
       "  eta  max_depth  colsample_bytree  subsample  nrounds  Accuracy  Kappa    \n",
       "  0.3  1          0.6               0.50        50      0.74875   0.3490313\n",
       "  0.3  1          0.6               0.50       100      0.74375   0.3473530\n",
       "  0.3  1          0.6               0.50       150      0.73625   0.3329469\n",
       "  0.3  1          0.6               0.75        50      0.74875   0.3446397\n",
       "  0.3  1          0.6               0.75       100      0.75125   0.3627501\n",
       "  0.3  1          0.6               0.75       150      0.75250   0.3654599\n",
       "  0.3  1          0.6               1.00        50      0.74250   0.3101304\n",
       "  0.3  1          0.6               1.00       100      0.75375   0.3537581\n",
       "  0.3  1          0.6               1.00       150      0.75375   0.3629174\n",
       "  0.3  1          0.8               0.50        50      0.75125   0.3638801\n",
       "  0.3  1          0.8               0.50       100      0.74375   0.3531656\n",
       "  0.3  1          0.8               0.50       150      0.75250   0.3846429\n",
       "  0.3  1          0.8               0.75        50      0.74500   0.3322427\n",
       "  0.3  1          0.8               0.75       100      0.75000   0.3601518\n",
       "  0.3  1          0.8               0.75       150      0.75125   0.3654478\n",
       "  0.3  1          0.8               1.00        50      0.74000   0.2987244\n",
       "  0.3  1          0.8               1.00       100      0.75500   0.3603519\n",
       "  0.3  1          0.8               1.00       150      0.75500   0.3652824\n",
       "  0.3  2          0.6               0.50        50      0.74250   0.3494121\n",
       "  0.3  2          0.6               0.50       100      0.74000   0.3580664\n",
       "  0.3  2          0.6               0.50       150      0.74000   0.3453370\n",
       "  0.3  2          0.6               0.75        50      0.74750   0.3501097\n",
       "  0.3  2          0.6               0.75       100      0.74375   0.3471118\n",
       "  0.3  2          0.6               0.75       150      0.74750   0.3625361\n",
       "  0.3  2          0.6               1.00        50      0.75125   0.3573732\n",
       "  0.3  2          0.6               1.00       100      0.75125   0.3734646\n",
       "  0.3  2          0.6               1.00       150      0.74375   0.3583347\n",
       "  0.3  2          0.8               0.50        50      0.73625   0.3267442\n",
       "  0.3  2          0.8               0.50       100      0.74000   0.3526868\n",
       "  0.3  2          0.8               0.50       150      0.72875   0.3333210\n",
       "  0.3  2          0.8               0.75        50      0.73625   0.3272854\n",
       "  0.3  2          0.8               0.75       100      0.74000   0.3479546\n",
       "  0.3  2          0.8               0.75       150      0.72500   0.3162383\n",
       "  0.3  2          0.8               1.00        50      0.75250   0.3618999\n",
       "  0.3  2          0.8               1.00       100      0.74625   0.3568292\n",
       "  0.3  2          0.8               1.00       150      0.74625   0.3633561\n",
       "  0.3  3          0.6               0.50        50      0.74125   0.3652028\n",
       "  0.3  3          0.6               0.50       100      0.72000   0.3135578\n",
       "  0.3  3          0.6               0.50       150      0.72500   0.3144093\n",
       "  0.3  3          0.6               0.75        50      0.72750   0.3178622\n",
       "  0.3  3          0.6               0.75       100      0.73875   0.3556922\n",
       "  0.3  3          0.6               0.75       150      0.73500   0.3426107\n",
       "  0.3  3          0.6               1.00        50      0.74625   0.3530494\n",
       "  0.3  3          0.6               1.00       100      0.75250   0.3827160\n",
       "  0.3  3          0.6               1.00       150      0.73000   0.3281793\n",
       "  0.3  3          0.8               0.50        50      0.72750   0.3187668\n",
       "  0.3  3          0.8               0.50       100      0.72375   0.3120706\n",
       "  0.3  3          0.8               0.50       150      0.72000   0.3030089\n",
       "  0.3  3          0.8               0.75        50      0.73250   0.3331320\n",
       "  0.3  3          0.8               0.75       100      0.73125   0.3430894\n",
       "  0.3  3          0.8               0.75       150      0.73250   0.3475877\n",
       "  0.3  3          0.8               1.00        50      0.74875   0.3549551\n",
       "  0.3  3          0.8               1.00       100      0.74500   0.3534659\n",
       "  0.3  3          0.8               1.00       150      0.74375   0.3589559\n",
       "  0.4  1          0.6               0.50        50      0.71875   0.2630144\n",
       "  0.4  1          0.6               0.50       100      0.73625   0.3325299\n",
       "  0.4  1          0.6               0.50       150      0.72375   0.3101628\n",
       "  0.4  1          0.6               0.75        50      0.74250   0.3304403\n",
       "  0.4  1          0.6               0.75       100      0.73750   0.3367111\n",
       "  0.4  1          0.6               0.75       150      0.73750   0.3372079\n",
       "  0.4  1          0.6               1.00        50      0.74875   0.3375849\n",
       "  0.4  1          0.6               1.00       100      0.75250   0.3552099\n",
       "  0.4  1          0.6               1.00       150      0.75125   0.3598720\n",
       "  0.4  1          0.8               0.50        50      0.75125   0.3552716\n",
       "  0.4  1          0.8               0.50       100      0.74125   0.3503843\n",
       "  0.4  1          0.8               0.50       150      0.73750   0.3486726\n",
       "  0.4  1          0.8               0.75        50      0.74500   0.3366851\n",
       "  0.4  1          0.8               0.75       100      0.74125   0.3468829\n",
       "  0.4  1          0.8               0.75       150      0.74000   0.3443909\n",
       "  0.4  1          0.8               1.00        50      0.75125   0.3477909\n",
       "  0.4  1          0.8               1.00       100      0.75500   0.3639852\n",
       "  0.4  1          0.8               1.00       150      0.75500   0.3667444\n",
       "  0.4  2          0.6               0.50        50      0.72250   0.3108055\n",
       "  0.4  2          0.6               0.50       100      0.73375   0.3218735\n",
       "  0.4  2          0.6               0.50       150      0.72000   0.2991138\n",
       "  0.4  2          0.6               0.75        50      0.74250   0.3511514\n",
       "  0.4  2          0.6               0.75       100      0.71750   0.2989765\n",
       "  0.4  2          0.6               0.75       150      0.73000   0.3363149\n",
       "  0.4  2          0.6               1.00        50      0.74625   0.3529688\n",
       "  0.4  2          0.6               1.00       100      0.74625   0.3696205\n",
       "  0.4  2          0.6               1.00       150      0.73625   0.3489767\n",
       "  0.4  2          0.8               0.50        50      0.71750   0.2973586\n",
       "  0.4  2          0.8               0.50       100      0.72250   0.3126319\n",
       "  0.4  2          0.8               0.50       150      0.72250   0.3175927\n",
       "  0.4  2          0.8               0.75        50      0.74625   0.3633263\n",
       "  0.4  2          0.8               0.75       100      0.74875   0.3759947\n",
       "  0.4  2          0.8               0.75       150      0.75000   0.3798598\n",
       "  0.4  2          0.8               1.00        50      0.75125   0.3704778\n",
       "  0.4  2          0.8               1.00       100      0.74625   0.3669207\n",
       "  0.4  2          0.8               1.00       150      0.73625   0.3524856\n",
       "  0.4  3          0.6               0.50        50      0.71750   0.3184480\n",
       "  0.4  3          0.6               0.50       100      0.70000   0.2703103\n",
       "  0.4  3          0.6               0.50       150      0.70875   0.2953307\n",
       "  0.4  3          0.6               0.75        50      0.73875   0.3500922\n",
       "  0.4  3          0.6               0.75       100      0.73125   0.3338355\n",
       "  0.4  3          0.6               0.75       150      0.72000   0.3097169\n",
       "  0.4  3          0.6               1.00        50      0.74000   0.3528036\n",
       "  0.4  3          0.6               1.00       100      0.74500   0.3654121\n",
       "  0.4  3          0.6               1.00       150      0.74250   0.3610017\n",
       "  0.4  3          0.8               0.50        50      0.71125   0.2987439\n",
       "  0.4  3          0.8               0.50       100      0.72000   0.3156129\n",
       "  0.4  3          0.8               0.50       150      0.72875   0.3407120\n",
       "  0.4  3          0.8               0.75        50      0.71875   0.2907703\n",
       "  0.4  3          0.8               0.75       100      0.71250   0.2928313\n",
       "  0.4  3          0.8               0.75       150      0.73375   0.3452324\n",
       "  0.4  3          0.8               1.00        50      0.72500   0.3094106\n",
       "  0.4  3          0.8               1.00       100      0.72250   0.3060964\n",
       "  0.4  3          0.8               1.00       150      0.72625   0.3095661\n",
       "  F1         Sensitivity  Specificity  Pos_Pred_Value  Neg_Pred_Value\n",
       "  0.5115670  0.4416667    0.8803571    0.6122587       0.7867367     \n",
       "  0.5174361  0.4625000    0.8642857    0.5919237       0.7903084     \n",
       "  0.5100357  0.4583333    0.8553571    0.5761326       0.7866562     \n",
       "  0.5056373  0.4291667    0.8857143    0.6173251       0.7836889     \n",
       "  0.5267988  0.4625000    0.8750000    0.6135056       0.7917404     \n",
       "  0.5284645  0.4625000    0.8767857    0.6184458       0.7919871     \n",
       "  0.4664225  0.3791667    0.8982143    0.6116845       0.7719348     \n",
       "  0.5095059  0.4291667    0.8928571    0.6325343       0.7853022     \n",
       "  0.5225947  0.4500000    0.8839286    0.6280088       0.7896356     \n",
       "  0.5281141  0.4666667    0.8732143    0.6118805       0.7929556     \n",
       "  0.5255489  0.4750000    0.8589286    0.5902841       0.7927203     \n",
       "  0.5540031  0.5125000    0.8553571    0.6066420       0.8037899     \n",
       "  0.4942610  0.4166667    0.8857143    0.6124339       0.7800674     \n",
       "  0.5253216  0.4625000    0.8732143    0.6087434       0.7914440     \n",
       "  0.5303796  0.4708333    0.8714286    0.6098020       0.7938857     \n",
       "  0.4544884  0.3625000    0.9017857    0.6121653       0.7676442     \n",
       "  0.5169938  0.4375000    0.8910714    0.6354230       0.7871598     \n",
       "  0.5237675  0.4500000    0.8857143    0.6316072       0.7899924     \n",
       "  0.5217416  0.4708333    0.8589286    0.5924126       0.7915908     \n",
       "  0.5371690  0.5041667    0.8410714    0.5790936       0.7985897     \n",
       "  0.5204518  0.4708333    0.8553571    0.5865443       0.7905596     \n",
       "  0.5149239  0.4500000    0.8750000    0.6095065       0.7883361     \n",
       "  0.5171721  0.4583333    0.8660714    0.5970107       0.7887842     \n",
       "  0.5321764  0.4791667    0.8625000    0.6023941       0.7945307     \n",
       "  0.5189346  0.4500000    0.8803571    0.6182068       0.7892090     \n",
       "  0.5409316  0.4916667    0.8625000    0.6056650       0.7988111     \n",
       "  0.5323096  0.4875000    0.8535714    0.5891342       0.7955724     \n",
       "  0.5013845  0.4458333    0.8607143    0.5758253       0.7842997     \n",
       "  0.5303566  0.4916667    0.8464286    0.5790563       0.7957129     \n",
       "  0.5214064  0.4916667    0.8303571    0.5572018       0.7920718     \n",
       "  0.5021655  0.4458333    0.8607143    0.5775244       0.7840866     \n",
       "  0.5238554  0.4791667    0.8517857    0.5830342       0.7927877     \n",
       "  0.5041073  0.4708333    0.8339286    0.5477915       0.7870372     \n",
       "  0.5234202  0.4541667    0.8803571    0.6204280       0.7902281     \n",
       "  0.5266046  0.4708333    0.8642857    0.5997318       0.7922281     \n",
       "  0.5353874  0.4875000    0.8571429    0.5956938       0.7960802     \n",
       "  0.5448143  0.5166667    0.8375000    0.5795091       0.8018638     \n",
       "  0.5080323  0.4833333    0.8214286    0.5385534       0.7879367     \n",
       "  0.5023485  0.4625000    0.8375000    0.5508389       0.7842704     \n",
       "  0.5026074  0.4625000    0.8410714    0.5563564       0.7857247     \n",
       "  0.5351436  0.5041667    0.8392857    0.5806956       0.7987719     \n",
       "  0.5234366  0.4916667    0.8392857    0.5700975       0.7952651     \n",
       "  0.5211464  0.4625000    0.8678571    0.6017064       0.7905890     \n",
       "  0.5514951  0.5083333    0.8571429    0.6062442       0.8029201     \n",
       "  0.5127103  0.4750000    0.8392857    0.5605237       0.7888407     \n",
       "  0.5038466  0.4625000    0.8410714    0.5582251       0.7852434     \n",
       "  0.5009336  0.4625000    0.8357143    0.5485205       0.7839957     \n",
       "  0.4942653  0.4583333    0.8321429    0.5400190       0.7822607     \n",
       "  0.5155717  0.4750000    0.8428571    0.5677413       0.7894366     \n",
       "  0.5303403  0.5083333    0.8267857    0.5573572       0.7973748     \n",
       "  0.5337610  0.5125000    0.8267857    0.5640092       0.7987947     \n",
       "  0.5198443  0.4541667    0.8750000    0.6118627       0.7891993     \n",
       "  0.5233406  0.4708333    0.8625000    0.5963848       0.7924553     \n",
       "  0.5325392  0.4916667    0.8517857    0.5872019       0.7970646     \n",
       "  0.4414996  0.3708333    0.8678571    0.5495621       0.7629792     \n",
       "  0.5093641  0.4583333    0.8553571    0.5751888       0.7868335     \n",
       "  0.4985491  0.4583333    0.8375000    0.5479016       0.7830793     \n",
       "  0.4963104  0.4250000    0.8785714    0.5982760       0.7812300     \n",
       "  0.5130979  0.4625000    0.8553571    0.5778397       0.7880471     \n",
       "  0.5138779  0.4625000    0.8553571    0.5790372       0.7878433     \n",
       "  0.4953803  0.4125000    0.8928571    0.6237169       0.7802237     \n",
       "  0.5139447  0.4375000    0.8875000    0.6265747       0.7865981     \n",
       "  0.5226322  0.4541667    0.8785714    0.6187487       0.7898073     \n",
       "  0.5159818  0.4458333    0.8821429    0.6175835       0.7883714     \n",
       "  0.5251297  0.4791667    0.8535714    0.5868027       0.7930996     \n",
       "  0.5288359  0.4916667    0.8428571    0.5746516       0.7947728     \n",
       "  0.5006911  0.4291667    0.8803571    0.6042179       0.7829462     \n",
       "  0.5208334  0.4708333    0.8571429    0.5858226       0.7911151     \n",
       "  0.5190225  0.4708333    0.8553571    0.5845809       0.7909952     \n",
       "  0.5057335  0.4250000    0.8910714    0.6265675       0.7834732     \n",
       "  0.5219343  0.4458333    0.8875000    0.6348284       0.7889602     \n",
       "  0.5259774  0.4541667    0.8839286    0.6280692       0.7909199     \n",
       "  0.5004428  0.4625000    0.8339286    0.5512584       0.7834983     \n",
       "  0.4988998  0.4416667    0.8589286    0.5748221       0.7821074     \n",
       "  0.4890244  0.4500000    0.8357143    0.5399437       0.7805534     \n",
       "  0.5244432  0.4750000    0.8571429    0.5898740       0.7923976     \n",
       "  0.4930256  0.4583333    0.8285714    0.5347326       0.7812430     \n",
       "  0.5237200  0.4958333    0.8303571    0.5558137       0.7936975     \n",
       "  0.5209934  0.4625000    0.8678571    0.6019034       0.7906461     \n",
       "  0.5433037  0.5041667    0.8500000    0.5934254       0.8002709     \n",
       "  0.5305998  0.4958333    0.8392857    0.5755710       0.7952004     \n",
       "  0.4899238  0.4583333    0.8285714    0.5338090       0.7822306     \n",
       "  0.5030482  0.4708333    0.8303571    0.5446951       0.7858908     \n",
       "  0.5088244  0.4833333    0.8250000    0.5453628       0.7890582     \n",
       "  0.5343728  0.4875000    0.8571429    0.6003662       0.7964669     \n",
       "  0.5483081  0.5083333    0.8517857    0.5972154       0.8017453     \n",
       "  0.5515750  0.5125000    0.8517857    0.5990483       0.8030871     \n",
       "  0.5367382  0.4833333    0.8660714    0.6096981       0.7968812     \n",
       "  0.5395594  0.5000000    0.8517857    0.5918111       0.7997823     \n",
       "  0.5354683  0.5083333    0.8339286    0.5685198       0.7986020     \n",
       "  0.5176804  0.5041667    0.8089286    0.5343391       0.7918032     \n",
       "  0.4803543  0.4625000    0.8017857    0.5019251       0.7768809     \n",
       "  0.5001478  0.4875000    0.8035714    0.5162603       0.7856797     \n",
       "  0.5287867  0.4916667    0.8446429    0.5755051       0.7954919     \n",
       "  0.5180500  0.4833333    0.8375000    0.5634594       0.7912679     \n",
       "  0.5030619  0.4750000    0.8250000    0.5381508       0.7862377     \n",
       "  0.5291169  0.4875000    0.8482143    0.5928798       0.7946843     \n",
       "  0.5385574  0.5000000    0.8500000    0.5959736       0.7993301     \n",
       "  0.5362988  0.5000000    0.8464286    0.5913461       0.7986259     \n",
       "  0.5007228  0.4875000    0.8071429    0.5193875       0.7869924     \n",
       "  0.5101498  0.4916667    0.8178571    0.5359917       0.7906531     \n",
       "  0.5296429  0.5166667    0.8196429    0.5522947       0.7996831     \n",
       "  0.4799966  0.4333333    0.8410714    0.5410904       0.7760501     \n",
       "  0.4915119  0.4625000    0.8196429    0.5297298       0.7805596     \n",
       "  0.5286937  0.4958333    0.8357143    0.5775526       0.7945973     \n",
       "  0.4952404  0.4500000    0.8428571    0.5555856       0.7816187     \n",
       "  0.4944437  0.4541667    0.8375000    0.5485550       0.7820533     \n",
       "  0.4929166  0.4500000    0.8446429    0.5541131       0.7829103     \n",
       "  Precision  Recall     Detection_Rate  Balanced_Accuracy\n",
       "  0.6122587  0.4416667  0.13250         0.6610119        \n",
       "  0.5919237  0.4625000  0.13875         0.6633929        \n",
       "  0.5761326  0.4583333  0.13750         0.6568452        \n",
       "  0.6173251  0.4291667  0.12875         0.6574405        \n",
       "  0.6135056  0.4625000  0.13875         0.6687500        \n",
       "  0.6184458  0.4625000  0.13875         0.6696429        \n",
       "  0.6116845  0.3791667  0.11375         0.6386905        \n",
       "  0.6325343  0.4291667  0.12875         0.6610119        \n",
       "  0.6280088  0.4500000  0.13500         0.6669643        \n",
       "  0.6118805  0.4666667  0.14000         0.6699405        \n",
       "  0.5902841  0.4750000  0.14250         0.6669643        \n",
       "  0.6066420  0.5125000  0.15375         0.6839286        \n",
       "  0.6124339  0.4166667  0.12500         0.6511905        \n",
       "  0.6087434  0.4625000  0.13875         0.6678571        \n",
       "  0.6098020  0.4708333  0.14125         0.6711310        \n",
       "  0.6121653  0.3625000  0.10875         0.6321429        \n",
       "  0.6354230  0.4375000  0.13125         0.6642857        \n",
       "  0.6316072  0.4500000  0.13500         0.6678571        \n",
       "  0.5924126  0.4708333  0.14125         0.6648810        \n",
       "  0.5790936  0.5041667  0.15125         0.6726190        \n",
       "  0.5865443  0.4708333  0.14125         0.6630952        \n",
       "  0.6095065  0.4500000  0.13500         0.6625000        \n",
       "  0.5970107  0.4583333  0.13750         0.6622024        \n",
       "  0.6023941  0.4791667  0.14375         0.6708333        \n",
       "  0.6182068  0.4500000  0.13500         0.6651786        \n",
       "  0.6056650  0.4916667  0.14750         0.6770833        \n",
       "  0.5891342  0.4875000  0.14625         0.6705357        \n",
       "  0.5758253  0.4458333  0.13375         0.6532738        \n",
       "  0.5790563  0.4916667  0.14750         0.6690476        \n",
       "  0.5572018  0.4916667  0.14750         0.6610119        \n",
       "  0.5775244  0.4458333  0.13375         0.6532738        \n",
       "  0.5830342  0.4791667  0.14375         0.6654762        \n",
       "  0.5477915  0.4708333  0.14125         0.6523810        \n",
       "  0.6204280  0.4541667  0.13625         0.6672619        \n",
       "  0.5997318  0.4708333  0.14125         0.6675595        \n",
       "  0.5956938  0.4875000  0.14625         0.6723214        \n",
       "  0.5795091  0.5166667  0.15500         0.6770833        \n",
       "  0.5385534  0.4833333  0.14500         0.6523810        \n",
       "  0.5508389  0.4625000  0.13875         0.6500000        \n",
       "  0.5563564  0.4625000  0.13875         0.6517857        \n",
       "  0.5806956  0.5041667  0.15125         0.6717262        \n",
       "  0.5700975  0.4916667  0.14750         0.6654762        \n",
       "  0.6017064  0.4625000  0.13875         0.6651786        \n",
       "  0.6062442  0.5083333  0.15250         0.6827381        \n",
       "  0.5605237  0.4750000  0.14250         0.6571429        \n",
       "  0.5582251  0.4625000  0.13875         0.6517857        \n",
       "  0.5485205  0.4625000  0.13875         0.6491071        \n",
       "  0.5400190  0.4583333  0.13750         0.6452381        \n",
       "  0.5677413  0.4750000  0.14250         0.6589286        \n",
       "  0.5573572  0.5083333  0.15250         0.6675595        \n",
       "  0.5640092  0.5125000  0.15375         0.6696429        \n",
       "  0.6118627  0.4541667  0.13625         0.6645833        \n",
       "  0.5963848  0.4708333  0.14125         0.6666667        \n",
       "  0.5872019  0.4916667  0.14750         0.6717262        \n",
       "  0.5495621  0.3708333  0.11125         0.6193452        \n",
       "  0.5751888  0.4583333  0.13750         0.6568452        \n",
       "  0.5479016  0.4583333  0.13750         0.6479167        \n",
       "  0.5982760  0.4250000  0.12750         0.6517857        \n",
       "  0.5778397  0.4625000  0.13875         0.6589286        \n",
       "  0.5790372  0.4625000  0.13875         0.6589286        \n",
       "  0.6237169  0.4125000  0.12375         0.6526786        \n",
       "  0.6265747  0.4375000  0.13125         0.6625000        \n",
       "  0.6187487  0.4541667  0.13625         0.6663690        \n",
       "  0.6175835  0.4458333  0.13375         0.6639881        \n",
       "  0.5868027  0.4791667  0.14375         0.6663690        \n",
       "  0.5746516  0.4916667  0.14750         0.6672619        \n",
       "  0.6042179  0.4291667  0.12875         0.6547619        \n",
       "  0.5858226  0.4708333  0.14125         0.6639881        \n",
       "  0.5845809  0.4708333  0.14125         0.6630952        \n",
       "  0.6265675  0.4250000  0.12750         0.6580357        \n",
       "  0.6348284  0.4458333  0.13375         0.6666667        \n",
       "  0.6280692  0.4541667  0.13625         0.6690476        \n",
       "  0.5512584  0.4625000  0.13875         0.6482143        \n",
       "  0.5748221  0.4416667  0.13250         0.6502976        \n",
       "  0.5399437  0.4500000  0.13500         0.6428571        \n",
       "  0.5898740  0.4750000  0.14250         0.6660714        \n",
       "  0.5347326  0.4583333  0.13750         0.6434524        \n",
       "  0.5558137  0.4958333  0.14875         0.6630952        \n",
       "  0.6019034  0.4625000  0.13875         0.6651786        \n",
       "  0.5934254  0.5041667  0.15125         0.6770833        \n",
       "  0.5755710  0.4958333  0.14875         0.6675595        \n",
       "  0.5338090  0.4583333  0.13750         0.6434524        \n",
       "  0.5446951  0.4708333  0.14125         0.6505952        \n",
       "  0.5453628  0.4833333  0.14500         0.6541667        \n",
       "  0.6003662  0.4875000  0.14625         0.6723214        \n",
       "  0.5972154  0.5083333  0.15250         0.6800595        \n",
       "  0.5990483  0.5125000  0.15375         0.6821429        \n",
       "  0.6096981  0.4833333  0.14500         0.6747024        \n",
       "  0.5918111  0.5000000  0.15000         0.6758929        \n",
       "  0.5685198  0.5083333  0.15250         0.6711310        \n",
       "  0.5343391  0.5041667  0.15125         0.6565476        \n",
       "  0.5019251  0.4625000  0.13875         0.6321429        \n",
       "  0.5162603  0.4875000  0.14625         0.6455357        \n",
       "  0.5755051  0.4916667  0.14750         0.6681548        \n",
       "  0.5634594  0.4833333  0.14500         0.6604167        \n",
       "  0.5381508  0.4750000  0.14250         0.6500000        \n",
       "  0.5928798  0.4875000  0.14625         0.6678571        \n",
       "  0.5959736  0.5000000  0.15000         0.6750000        \n",
       "  0.5913461  0.5000000  0.15000         0.6732143        \n",
       "  0.5193875  0.4875000  0.14625         0.6473214        \n",
       "  0.5359917  0.4916667  0.14750         0.6547619        \n",
       "  0.5522947  0.5166667  0.15500         0.6681548        \n",
       "  0.5410904  0.4333333  0.13000         0.6372024        \n",
       "  0.5297298  0.4625000  0.13875         0.6410714        \n",
       "  0.5775526  0.4958333  0.14875         0.6657738        \n",
       "  0.5555856  0.4500000  0.13500         0.6464286        \n",
       "  0.5485550  0.4541667  0.13625         0.6458333        \n",
       "  0.5541131  0.4500000  0.13500         0.6473214        \n",
       "\n",
       "Tuning parameter 'gamma' was held constant at a value of 0\n",
       "Tuning\n",
       " parameter 'min_child_weight' was held constant at a value of 1\n",
       "Accuracy was used to select the optimal model using the largest value.\n",
       "The final values used for the model were nrounds = 100, max_depth = 1, eta\n",
       " = 0.3, gamma = 0, colsample_bytree = 0.8, min_child_weight = 1 and subsample\n",
       " = 1.\n",
       "\n",
       "attr(,\"class\")\n",
       "[1] \"caretList\""
      ]
     },
     "metadata": {},
     "output_type": "display_data"
    }
   ],
   "source": [
    "model_list1"
   ]
  },
  {
   "cell_type": "code",
   "execution_count": 25,
   "metadata": {},
   "outputs": [
    {
     "data": {
      "image/png": "[encoded data removed]",
      "text/plain": [
       "plot without title"
      ]
     },
     "metadata": {},
     "output_type": "display_data"
    }
   ],
   "source": [
    "# Model Performance:\n",
    "options(repr.plot.width = 8, repr.plot.height = 5)\n",
    "total_df %>% \n",
    "  select(Accuracy, Precision, Recall, Sensitivity, Model) %>% \n",
    "  gather(a, b, -Model) %>% \n",
    "  ggplot(aes(Model, b, fill = Model, color = Model)) + \n",
    "  geom_boxplot(show.legend = FALSE, alpha = 0.3) + \n",
    "  facet_wrap(~ a, scales = \"free\") + \n",
    "  coord_flip() + \n",
    "  labs(x = NULL, y = NULL, \n",
    "       title = \"Evaluation and Comparison of Model Performance\")"
   ]
  },
  {
   "cell_type": "code",
   "execution_count": 26,
   "metadata": {},
   "outputs": [
    {
     "data": {
      "text/plain": [
       "\n",
       "\n",
       "|Model    | Accuracy| Precision| Recall| Sensitivity|\n",
       "|:--------|--------:|---------:|------:|-----------:|\n",
       "|XgbTree  |    75.50|     63.54|  43.75|       43.75|\n",
       "|RF       |    74.50|     61.27|  42.50|       42.50|\n",
       "|Logistic |    74.12|     58.93|  46.25|       46.25|\n",
       "|SVM      |    70.88|     52.13|  29.58|       29.58|\n",
       "|KNN      |    66.88|     39.47|  16.67|       16.67|"
      ]
     },
     "metadata": {},
     "output_type": "display_data"
    }
   ],
   "source": [
    "# table\n",
    "options(warn=-1)\n",
    "total_df %>% \n",
    "  group_by(Model) %>% \n",
    "  summarise_each(funs(mean), Accuracy, Precision, Recall, Sensitivity) %>% \n",
    "  ungroup() %>% \n",
    "  arrange(-Accuracy) %>% \n",
    "  mutate_if(is.numeric, function(x) {round(100*x, 2)}) %>% \n",
    "  knitr::kable(caption = \"Table 1: Model Performance for Validation Data Sets\")"
   ]
  },
  {
   "cell_type": "code",
   "execution_count": 27,
   "metadata": {},
   "outputs": [],
   "source": [
    "options(warn=-1)\n",
    "total_df %>% \n",
    "  group_by(Model) %>% \n",
    "  summarise_each(funs(mean), Accuracy, Precision, Recall, Sensitivity) %>% \n",
    "  ungroup() %>% \n",
    "  arrange(-Accuracy) %>% \n",
    "  mutate_if(is.numeric, function(x) {round(100*x, 2)}) %>% \n",
    "  write.csv(., \"f1.csv\")"
   ]
  },
  {
   "cell_type": "code",
   "execution_count": 28,
   "metadata": {},
   "outputs": [],
   "source": [
    "#-----------------------------------------------------\n",
    "#  Confusion Matrix\n",
    "#-----------------------------------------------------\n",
    "pred <- predict(model_list1$xgbTree, test_data %>% select(-Class))\n",
    "dfCM <- data.frame(pred = pred, act = test_data$Class, id = 1:200)"
   ]
  },
  {
   "cell_type": "code",
   "execution_count": 29,
   "metadata": {},
   "outputs": [
    {
     "data": {
      "text/plain": [
       ".\n",
       " Bad Good \n",
       "   0  156 "
      ]
     },
     "metadata": {},
     "output_type": "display_data"
    }
   ],
   "source": [
    "# \n",
    "df1 <- dfCM %>% filter(pred == \"Good\")\n",
    "\n",
    "# number of loan contracts: \n",
    "df1$pred %>% table()"
   ]
  },
  {
   "cell_type": "code",
   "execution_count": 30,
   "metadata": {},
   "outputs": [
    {
     "data": {
      "text/plain": [
       ".\n",
       " Bad Good \n",
       "  32  124 "
      ]
     },
     "metadata": {},
     "output_type": "display_data"
    }
   ],
   "source": [
    "# There are good cases = true positive and bad cases = false postive\n",
    "df1$act %>% table()"
   ]
  },
  {
   "cell_type": "code",
   "execution_count": 31,
   "metadata": {},
   "outputs": [
    {
     "data": {
      "text/html": [
       "<table>\n",
       "<thead><tr><th scope=col>pred</th><th scope=col>act</th><th scope=col>id</th></tr></thead>\n",
       "<tbody>\n",
       "\t<tr><td>Bad </td><td>Bad </td><td>1   </td></tr>\n",
       "\t<tr><td>Bad </td><td>Bad </td><td>2   </td></tr>\n",
       "\t<tr><td>Bad </td><td>Good</td><td>3   </td></tr>\n",
       "\t<tr><td>Good</td><td>Good</td><td>4   </td></tr>\n",
       "\t<tr><td>Good</td><td>Good</td><td>5   </td></tr>\n",
       "</tbody>\n",
       "</table>\n"
      ],
      "text/latex": [
       "\\begin{tabular}{r|lll}\n",
       " pred & act & id\\\\\n",
       "\\hline\n",
       "\t Bad  & Bad  & 1   \\\\\n",
       "\t Bad  & Bad  & 2   \\\\\n",
       "\t Bad  & Good & 3   \\\\\n",
       "\t Good & Good & 4   \\\\\n",
       "\t Good & Good & 5   \\\\\n",
       "\\end{tabular}\n"
      ],
      "text/markdown": [
       "\n",
       "| pred | act | id |\n",
       "|---|---|---|\n",
       "| Bad  | Bad  | 1    |\n",
       "| Bad  | Bad  | 2    |\n",
       "| Bad  | Good | 3    |\n",
       "| Good | Good | 4    |\n",
       "| Good | Good | 5    |\n",
       "\n"
      ],
      "text/plain": [
       "  pred act  id\n",
       "1 Bad  Bad  1 \n",
       "2 Bad  Bad  2 \n",
       "3 Bad  Good 3 \n",
       "4 Good Good 4 \n",
       "5 Good Good 5 "
      ]
     },
     "metadata": {},
     "output_type": "display_data"
    }
   ],
   "source": [
    "head(dfCM,5)"
   ]
  },
  {
   "cell_type": "code",
   "execution_count": 32,
   "metadata": {},
   "outputs": [
    {
     "data": {
      "text/plain": [
       "Confusion Matrix and Statistics\n",
       "\n",
       "          Reference\n",
       "Prediction Bad Good\n",
       "      Bad   28   16\n",
       "      Good  32  124\n",
       "                                          \n",
       "               Accuracy : 0.76            \n",
       "                 95% CI : (0.6947, 0.8174)\n",
       "    No Information Rate : 0.7             \n",
       "    P-Value [Acc > NIR] : 0.03595         \n",
       "                                          \n",
       "                  Kappa : 0.3814          \n",
       " Mcnemar's Test P-Value : 0.03038         \n",
       "                                          \n",
       "            Sensitivity : 0.4667          \n",
       "            Specificity : 0.8857          \n",
       "         Pos Pred Value : 0.6364          \n",
       "         Neg Pred Value : 0.7949          \n",
       "             Prevalence : 0.3000          \n",
       "         Detection Rate : 0.1400          \n",
       "   Detection Prevalence : 0.2200          \n",
       "      Balanced Accuracy : 0.6762          \n",
       "                                          \n",
       "       'Positive' Class : Bad             \n",
       "                                          "
      ]
     },
     "metadata": {},
     "output_type": "display_data"
    }
   ],
   "source": [
    "#  \n",
    "confusionMatrix(dfCM$pred,dfCM$act)"
   ]
  },
  {
   "cell_type": "code",
   "execution_count": 33,
   "metadata": {},
   "outputs": [],
   "source": [
    "#----------------------------------------\n",
    "#       Profit Simulation\n",
    "#----------------------------------------\n",
    "\n",
    "get_result <- function(ti_le, N, model_selected, df_test_selected) {\n",
    "  my_vec <- c()\n",
    "  \n",
    "  for (i in 1:N) {\n",
    "    set.seed(i) \n",
    "    df_test <- df_test_selected %>% \n",
    "      group_by(Class) %>% \n",
    "      sample_frac(ti_le) %>% \n",
    "      ungroup()\n",
    "    \n",
    "    pred <- predict(model_selected, df_test %>% select(-Class))\n",
    "    cm <- confusionMatrix(df_test$Class, pred)\n",
    "    cm$table %>% \n",
    "      as.vector() -> u\n",
    "    my_vec <- c(my_vec, u)\n",
    "  }\n",
    "  \n",
    "  my_vec %>% \n",
    "    matrix(ncol = 4, byrow = TRUE) %>% \n",
    "    as.data.frame() %>% \n",
    "    rename(BB = V1, \n",
    "           GB = V2,\n",
    "           BG = V3,\n",
    "           GG = V4) %>% \n",
    "    return()\n",
    "}"
   ]
  },
  {
   "cell_type": "code",
   "execution_count": 34,
   "metadata": {},
   "outputs": [],
   "source": [
    "df_testa <- test_data %>% \n",
    "      group_by(Class) %>% \n",
    "      sample_frac(0.5) %>% ungroup()"
   ]
  },
  {
   "cell_type": "code",
   "execution_count": 35,
   "metadata": {},
   "outputs": [],
   "source": [
    "preda <- predict(model_list1$xgbTree, df_testa %>% select(-Class))"
   ]
  },
  {
   "cell_type": "code",
   "execution_count": 36,
   "metadata": {},
   "outputs": [],
   "source": [
    "cma <- confusionMatrix(df_testa$Class, preda)"
   ]
  },
  {
   "cell_type": "code",
   "execution_count": 37,
   "metadata": {},
   "outputs": [],
   "source": [
    "my_veca <- c()"
   ]
  },
  {
   "cell_type": "code",
   "execution_count": 38,
   "metadata": {},
   "outputs": [],
   "source": [
    "cma$table %>% \n",
    "      as.vector() -> u\n",
    "    my_veca <- c(my_veca, u)"
   ]
  },
  {
   "cell_type": "code",
   "execution_count": 39,
   "metadata": {},
   "outputs": [
    {
     "data": {
      "text/html": [
       "<table>\n",
       "<thead><tr><th scope=col>BB</th><th scope=col>GB</th><th scope=col>BG</th><th scope=col>GG</th></tr></thead>\n",
       "<tbody>\n",
       "\t<tr><td>12</td><td>8 </td><td>18</td><td>62</td></tr>\n",
       "</tbody>\n",
       "</table>\n"
      ],
      "text/latex": [
       "\\begin{tabular}{r|llll}\n",
       " BB & GB & BG & GG\\\\\n",
       "\\hline\n",
       "\t 12 & 8  & 18 & 62\\\\\n",
       "\\end{tabular}\n"
      ],
      "text/markdown": [
       "\n",
       "| BB | GB | BG | GG |\n",
       "|---|---|---|---|\n",
       "| 12 | 8  | 18 | 62 |\n",
       "\n"
      ],
      "text/plain": [
       "  BB GB BG GG\n",
       "1 12 8  18 62"
      ]
     },
     "metadata": {},
     "output_type": "display_data"
    }
   ],
   "source": [
    "  my_veca %>% \n",
    "    matrix(ncol = 4, byrow = TRUE) %>% \n",
    "    as.data.frame() %>% \n",
    "    rename(BB = V1, \n",
    "           GB = V2,\n",
    "           BG = V3,\n",
    "           GG = V4)"
   ]
  },
  {
   "cell_type": "code",
   "execution_count": 40,
   "metadata": {},
   "outputs": [
    {
     "data": {
      "text/html": [
       "<ol class=list-inline>\n",
       "\t<li>12</li>\n",
       "\t<li>8</li>\n",
       "\t<li>18</li>\n",
       "\t<li>62</li>\n",
       "</ol>\n"
      ],
      "text/latex": [
       "\\begin{enumerate*}\n",
       "\\item 12\n",
       "\\item 8\n",
       "\\item 18\n",
       "\\item 62\n",
       "\\end{enumerate*}\n"
      ],
      "text/markdown": [
       "1. 12\n",
       "2. 8\n",
       "3. 18\n",
       "4. 62\n",
       "\n",
       "\n"
      ],
      "text/plain": [
       "[1] 12  8 18 62"
      ]
     },
     "metadata": {},
     "output_type": "display_data"
    }
   ],
   "source": [
    "my_veca"
   ]
  },
  {
   "cell_type": "code",
   "execution_count": 41,
   "metadata": {},
   "outputs": [],
   "source": [
    "# result: \n",
    "\n",
    "loan_xgbtree <- get_result(0.5, 100, model_list1$xgbTree, test_data)\n",
    "loan_svm <- get_result(0.5, 100, model_list1$svmLinear, test_data)\n",
    "loan_rf <- get_result(0.5, 100, model_list1$rf, test_data)\n",
    "loan_knn <- get_result(0.5, 100, model_list1$knn, test_data)\n",
    "loan_logit <- get_result(0.5, 100, model_list1$glm, test_data)\n",
    "\n",
    "# BB = Bad Bad = True Negatives\n",
    "# GB = Good Bad = False Negatives\n",
    "# BG = Bad Good = False Positive\n",
    "# GG = Good Good = True Positive\n"
   ]
  },
  {
   "cell_type": "code",
   "execution_count": 42,
   "metadata": {},
   "outputs": [
    {
     "name": "stdout",
     "output_type": "stream",
     "text": [
      "'data.frame':\t100 obs. of  4 variables:\n",
      " $ BB: int  16 11 14 15 16 13 13 16 15 12 ...\n",
      " $ GB: int  11 12 5 10 10 7 8 9 12 7 ...\n",
      " $ BG: int  14 19 16 15 14 17 17 14 15 18 ...\n",
      " $ GG: int  59 58 65 60 60 63 62 61 58 63 ...\n"
     ]
    },
    {
     "data": {
      "text/html": [
       "<table>\n",
       "<thead><tr><th scope=col>BB</th><th scope=col>GB</th><th scope=col>BG</th><th scope=col>GG</th></tr></thead>\n",
       "<tbody>\n",
       "\t<tr><td>16</td><td>11</td><td>14</td><td>59</td></tr>\n",
       "\t<tr><td>11</td><td>12</td><td>19</td><td>58</td></tr>\n",
       "\t<tr><td>14</td><td> 5</td><td>16</td><td>65</td></tr>\n",
       "\t<tr><td>15</td><td>10</td><td>15</td><td>60</td></tr>\n",
       "\t<tr><td>16</td><td>10</td><td>14</td><td>60</td></tr>\n",
       "</tbody>\n",
       "</table>\n"
      ],
      "text/latex": [
       "\\begin{tabular}{r|llll}\n",
       " BB & GB & BG & GG\\\\\n",
       "\\hline\n",
       "\t 16 & 11 & 14 & 59\\\\\n",
       "\t 11 & 12 & 19 & 58\\\\\n",
       "\t 14 &  5 & 16 & 65\\\\\n",
       "\t 15 & 10 & 15 & 60\\\\\n",
       "\t 16 & 10 & 14 & 60\\\\\n",
       "\\end{tabular}\n"
      ],
      "text/markdown": [
       "\n",
       "| BB | GB | BG | GG |\n",
       "|---|---|---|---|\n",
       "| 16 | 11 | 14 | 59 |\n",
       "| 11 | 12 | 19 | 58 |\n",
       "| 14 |  5 | 16 | 65 |\n",
       "| 15 | 10 | 15 | 60 |\n",
       "| 16 | 10 | 14 | 60 |\n",
       "\n"
      ],
      "text/plain": [
       "  BB GB BG GG\n",
       "1 16 11 14 59\n",
       "2 11 12 19 58\n",
       "3 14  5 16 65\n",
       "4 15 10 15 60\n",
       "5 16 10 14 60"
      ]
     },
     "metadata": {},
     "output_type": "display_data"
    }
   ],
   "source": [
    "str(loan_xgbtree)\n",
    "head(loan_xgbtree,5)"
   ]
  },
  {
   "cell_type": "code",
   "execution_count": 43,
   "metadata": {},
   "outputs": [],
   "source": [
    "# Calculation of Accuracy: \n",
    "total_df_result <- bind_rows(loan_xgbtree %>% mutate(Model = \"XgbTree\"), \n",
    "                             loan_svm %>% mutate(Model = \"SVM\"), \n",
    "                             loan_rf %>% mutate(Model = \"RF\"), \n",
    "                             loan_knn %>% mutate(Model = \"KNN\"), \n",
    "                             loan_logit %>% mutate(Model = \"Logistic\")) %>% \n",
    "  mutate(Accuracy = (BB + GG) / (BB + GG + GB + BG))"
   ]
  },
  {
   "cell_type": "code",
   "execution_count": 44,
   "metadata": {},
   "outputs": [
    {
     "data": {
      "text/html": [
       "<table>\n",
       "<thead><tr><th scope=col>BB</th><th scope=col>GB</th><th scope=col>BG</th><th scope=col>GG</th><th scope=col>Model</th><th scope=col>Accuracy</th></tr></thead>\n",
       "<tbody>\n",
       "\t<tr><td>16     </td><td>11     </td><td>14     </td><td>59     </td><td>XgbTree</td><td>0.75   </td></tr>\n",
       "\t<tr><td>11     </td><td>12     </td><td>19     </td><td>58     </td><td>XgbTree</td><td>0.69   </td></tr>\n",
       "\t<tr><td>14     </td><td> 5     </td><td>16     </td><td>65     </td><td>XgbTree</td><td>0.79   </td></tr>\n",
       "\t<tr><td>15     </td><td>10     </td><td>15     </td><td>60     </td><td>XgbTree</td><td>0.75   </td></tr>\n",
       "\t<tr><td>16     </td><td>10     </td><td>14     </td><td>60     </td><td>XgbTree</td><td>0.76   </td></tr>\n",
       "</tbody>\n",
       "</table>\n"
      ],
      "text/latex": [
       "\\begin{tabular}{r|llllll}\n",
       " BB & GB & BG & GG & Model & Accuracy\\\\\n",
       "\\hline\n",
       "\t 16      & 11      & 14      & 59      & XgbTree & 0.75   \\\\\n",
       "\t 11      & 12      & 19      & 58      & XgbTree & 0.69   \\\\\n",
       "\t 14      &  5      & 16      & 65      & XgbTree & 0.79   \\\\\n",
       "\t 15      & 10      & 15      & 60      & XgbTree & 0.75   \\\\\n",
       "\t 16      & 10      & 14      & 60      & XgbTree & 0.76   \\\\\n",
       "\\end{tabular}\n"
      ],
      "text/markdown": [
       "\n",
       "| BB | GB | BG | GG | Model | Accuracy |\n",
       "|---|---|---|---|---|---|\n",
       "| 16      | 11      | 14      | 59      | XgbTree | 0.75    |\n",
       "| 11      | 12      | 19      | 58      | XgbTree | 0.69    |\n",
       "| 14      |  5      | 16      | 65      | XgbTree | 0.79    |\n",
       "| 15      | 10      | 15      | 60      | XgbTree | 0.75    |\n",
       "| 16      | 10      | 14      | 60      | XgbTree | 0.76    |\n",
       "\n"
      ],
      "text/plain": [
       "  BB GB BG GG Model   Accuracy\n",
       "1 16 11 14 59 XgbTree 0.75    \n",
       "2 11 12 19 58 XgbTree 0.69    \n",
       "3 14  5 16 65 XgbTree 0.79    \n",
       "4 15 10 15 60 XgbTree 0.75    \n",
       "5 16 10 14 60 XgbTree 0.76    "
      ]
     },
     "metadata": {},
     "output_type": "display_data"
    }
   ],
   "source": [
    "total_df_result %>% head(5)"
   ]
  },
  {
   "cell_type": "code",
   "execution_count": 45,
   "metadata": {},
   "outputs": [
    {
     "data": {
      "text/plain": [
       "\n",
       "\n",
       "|Model    | Accuracy|    GG|    BB|    BG|\n",
       "|:--------|--------:|-----:|-----:|-----:|\n",
       "|Logistic |    76.59| 60.36| 16.23| 13.77|\n",
       "|XgbTree  |    76.10| 61.83| 14.27| 15.73|\n",
       "|RF       |    75.54| 60.89| 14.65| 15.35|\n",
       "|SVM      |    74.35| 66.37|  7.98| 22.02|\n",
       "|KNN      |    69.23| 63.64|  5.59| 24.41|"
      ]
     },
     "metadata": {},
     "output_type": "display_data"
    }
   ],
   "source": [
    "# Avg Accuracy from 100 samples: \n",
    "options(warn=-1)\n",
    "total_df_result %>% \n",
    "  group_by(Model) %>% \n",
    "  summarise_each(funs(mean), Accuracy, GG, BB, BG) %>% \n",
    "  ungroup() %>% \n",
    "  arrange(-Accuracy) %>% \n",
    "  mutate_at(.vars = c(\"Accuracy\"), function(x) {round(100*x, 2)}) %>% \n",
    "  knitr::kable(caption = \"Table 2: Model Performance for Test Data Sets\")"
   ]
  },
  {
   "cell_type": "code",
   "execution_count": 46,
   "metadata": {},
   "outputs": [],
   "source": [
    "# Profit simulation function: \n",
    "profit_simu <- function(df_result, rate, N) {\n",
    "  data(\"GermanCredit\")\n",
    "  no_loan <- german$Amount\n",
    "  good_debt <- sum(df_result$GG)\n",
    "  bad_debt <- sum(df_result$BG)\n",
    "  \n",
    "  my_prof <- c()\n",
    "  \n",
    "  for (i in 1:N) {\n",
    "    set.seed(i)\n",
    "    prof <- rate*sample(no_loan, size = good_debt, replace = TRUE) %>% sum() \n",
    "              - sum(sample(no_loan, size = bad_debt, replace = TRUE))\n",
    "    my_prof <- c(prof, my_prof)\n",
    "  }\n",
    "  return(my_prof)\n",
    "}"
   ]
  },
  {
   "cell_type": "code",
   "execution_count": 47,
   "metadata": {},
   "outputs": [
    {
     "data": {
      "text/html": [
       "1000"
      ],
      "text/latex": [
       "1000"
      ],
      "text/markdown": [
       "1000"
      ],
      "text/plain": [
       "[1] 1000"
      ]
     },
     "metadata": {},
     "output_type": "display_data"
    },
    {
     "data": {
      "text/html": [
       "6183"
      ],
      "text/latex": [
       "6183"
      ],
      "text/markdown": [
       "6183"
      ],
      "text/plain": [
       "[1] 6183"
      ]
     },
     "metadata": {},
     "output_type": "display_data"
    }
   ],
   "source": [
    "data(\"GermanCredit\")\n",
    "length(GermanCredit$Amount)\n",
    "sum(loan_xgbtree$GG)"
   ]
  },
  {
   "cell_type": "code",
   "execution_count": 48,
   "metadata": {},
   "outputs": [
    {
     "data": {
      "text/html": [
       "<ol class=list-inline>\n",
       "\t<li>59</li>\n",
       "\t<li>58</li>\n",
       "\t<li>65</li>\n",
       "\t<li>60</li>\n",
       "\t<li>60</li>\n",
       "\t<li>63</li>\n",
       "\t<li>62</li>\n",
       "\t<li>61</li>\n",
       "\t<li>58</li>\n",
       "\t<li>63</li>\n",
       "\t<li>64</li>\n",
       "\t<li>62</li>\n",
       "\t<li>63</li>\n",
       "\t<li>62</li>\n",
       "\t<li>61</li>\n",
       "\t<li>67</li>\n",
       "\t<li>62</li>\n",
       "\t<li>60</li>\n",
       "\t<li>62</li>\n",
       "\t<li>61</li>\n",
       "\t<li>64</li>\n",
       "\t<li>63</li>\n",
       "\t<li>61</li>\n",
       "\t<li>59</li>\n",
       "\t<li>64</li>\n",
       "\t<li>63</li>\n",
       "\t<li>65</li>\n",
       "\t<li>64</li>\n",
       "\t<li>62</li>\n",
       "\t<li>61</li>\n",
       "\t<li>61</li>\n",
       "\t<li>58</li>\n",
       "\t<li>63</li>\n",
       "\t<li>61</li>\n",
       "\t<li>62</li>\n",
       "\t<li>60</li>\n",
       "\t<li>59</li>\n",
       "\t<li>63</li>\n",
       "\t<li>61</li>\n",
       "\t<li>62</li>\n",
       "\t<li>63</li>\n",
       "\t<li>58</li>\n",
       "\t<li>61</li>\n",
       "\t<li>62</li>\n",
       "\t<li>61</li>\n",
       "\t<li>62</li>\n",
       "\t<li>64</li>\n",
       "\t<li>64</li>\n",
       "\t<li>60</li>\n",
       "\t<li>58</li>\n",
       "\t<li>62</li>\n",
       "\t<li>63</li>\n",
       "\t<li>63</li>\n",
       "\t<li>61</li>\n",
       "\t<li>63</li>\n",
       "\t<li>62</li>\n",
       "\t<li>58</li>\n",
       "\t<li>62</li>\n",
       "\t<li>63</li>\n",
       "\t<li>58</li>\n",
       "\t<li>64</li>\n",
       "\t<li>65</li>\n",
       "\t<li>64</li>\n",
       "\t<li>65</li>\n",
       "\t<li>61</li>\n",
       "\t<li>65</li>\n",
       "\t<li>61</li>\n",
       "\t<li>62</li>\n",
       "\t<li>64</li>\n",
       "\t<li>63</li>\n",
       "\t<li>60</li>\n",
       "\t<li>60</li>\n",
       "\t<li>65</li>\n",
       "\t<li>65</li>\n",
       "\t<li>61</li>\n",
       "\t<li>61</li>\n",
       "\t<li>60</li>\n",
       "\t<li>59</li>\n",
       "\t<li>64</li>\n",
       "\t<li>61</li>\n",
       "\t<li>59</li>\n",
       "\t<li>63</li>\n",
       "\t<li>60</li>\n",
       "\t<li>60</li>\n",
       "\t<li>61</li>\n",
       "\t<li>65</li>\n",
       "\t<li>62</li>\n",
       "\t<li>62</li>\n",
       "\t<li>63</li>\n",
       "\t<li>60</li>\n",
       "\t<li>64</li>\n",
       "\t<li>62</li>\n",
       "\t<li>61</li>\n",
       "\t<li>61</li>\n",
       "\t<li>61</li>\n",
       "\t<li>64</li>\n",
       "\t<li>61</li>\n",
       "\t<li>60</li>\n",
       "\t<li>64</li>\n",
       "\t<li>63</li>\n",
       "</ol>\n"
      ],
      "text/latex": [
       "\\begin{enumerate*}\n",
       "\\item 59\n",
       "\\item 58\n",
       "\\item 65\n",
       "\\item 60\n",
       "\\item 60\n",
       "\\item 63\n",
       "\\item 62\n",
       "\\item 61\n",
       "\\item 58\n",
       "\\item 63\n",
       "\\item 64\n",
       "\\item 62\n",
       "\\item 63\n",
       "\\item 62\n",
       "\\item 61\n",
       "\\item 67\n",
       "\\item 62\n",
       "\\item 60\n",
       "\\item 62\n",
       "\\item 61\n",
       "\\item 64\n",
       "\\item 63\n",
       "\\item 61\n",
       "\\item 59\n",
       "\\item 64\n",
       "\\item 63\n",
       "\\item 65\n",
       "\\item 64\n",
       "\\item 62\n",
       "\\item 61\n",
       "\\item 61\n",
       "\\item 58\n",
       "\\item 63\n",
       "\\item 61\n",
       "\\item 62\n",
       "\\item 60\n",
       "\\item 59\n",
       "\\item 63\n",
       "\\item 61\n",
       "\\item 62\n",
       "\\item 63\n",
       "\\item 58\n",
       "\\item 61\n",
       "\\item 62\n",
       "\\item 61\n",
       "\\item 62\n",
       "\\item 64\n",
       "\\item 64\n",
       "\\item 60\n",
       "\\item 58\n",
       "\\item 62\n",
       "\\item 63\n",
       "\\item 63\n",
       "\\item 61\n",
       "\\item 63\n",
       "\\item 62\n",
       "\\item 58\n",
       "\\item 62\n",
       "\\item 63\n",
       "\\item 58\n",
       "\\item 64\n",
       "\\item 65\n",
       "\\item 64\n",
       "\\item 65\n",
       "\\item 61\n",
       "\\item 65\n",
       "\\item 61\n",
       "\\item 62\n",
       "\\item 64\n",
       "\\item 63\n",
       "\\item 60\n",
       "\\item 60\n",
       "\\item 65\n",
       "\\item 65\n",
       "\\item 61\n",
       "\\item 61\n",
       "\\item 60\n",
       "\\item 59\n",
       "\\item 64\n",
       "\\item 61\n",
       "\\item 59\n",
       "\\item 63\n",
       "\\item 60\n",
       "\\item 60\n",
       "\\item 61\n",
       "\\item 65\n",
       "\\item 62\n",
       "\\item 62\n",
       "\\item 63\n",
       "\\item 60\n",
       "\\item 64\n",
       "\\item 62\n",
       "\\item 61\n",
       "\\item 61\n",
       "\\item 61\n",
       "\\item 64\n",
       "\\item 61\n",
       "\\item 60\n",
       "\\item 64\n",
       "\\item 63\n",
       "\\end{enumerate*}\n"
      ],
      "text/markdown": [
       "1. 59\n",
       "2. 58\n",
       "3. 65\n",
       "4. 60\n",
       "5. 60\n",
       "6. 63\n",
       "7. 62\n",
       "8. 61\n",
       "9. 58\n",
       "10. 63\n",
       "11. 64\n",
       "12. 62\n",
       "13. 63\n",
       "14. 62\n",
       "15. 61\n",
       "16. 67\n",
       "17. 62\n",
       "18. 60\n",
       "19. 62\n",
       "20. 61\n",
       "21. 64\n",
       "22. 63\n",
       "23. 61\n",
       "24. 59\n",
       "25. 64\n",
       "26. 63\n",
       "27. 65\n",
       "28. 64\n",
       "29. 62\n",
       "30. 61\n",
       "31. 61\n",
       "32. 58\n",
       "33. 63\n",
       "34. 61\n",
       "35. 62\n",
       "36. 60\n",
       "37. 59\n",
       "38. 63\n",
       "39. 61\n",
       "40. 62\n",
       "41. 63\n",
       "42. 58\n",
       "43. 61\n",
       "44. 62\n",
       "45. 61\n",
       "46. 62\n",
       "47. 64\n",
       "48. 64\n",
       "49. 60\n",
       "50. 58\n",
       "51. 62\n",
       "52. 63\n",
       "53. 63\n",
       "54. 61\n",
       "55. 63\n",
       "56. 62\n",
       "57. 58\n",
       "58. 62\n",
       "59. 63\n",
       "60. 58\n",
       "61. 64\n",
       "62. 65\n",
       "63. 64\n",
       "64. 65\n",
       "65. 61\n",
       "66. 65\n",
       "67. 61\n",
       "68. 62\n",
       "69. 64\n",
       "70. 63\n",
       "71. 60\n",
       "72. 60\n",
       "73. 65\n",
       "74. 65\n",
       "75. 61\n",
       "76. 61\n",
       "77. 60\n",
       "78. 59\n",
       "79. 64\n",
       "80. 61\n",
       "81. 59\n",
       "82. 63\n",
       "83. 60\n",
       "84. 60\n",
       "85. 61\n",
       "86. 65\n",
       "87. 62\n",
       "88. 62\n",
       "89. 63\n",
       "90. 60\n",
       "91. 64\n",
       "92. 62\n",
       "93. 61\n",
       "94. 61\n",
       "95. 61\n",
       "96. 64\n",
       "97. 61\n",
       "98. 60\n",
       "99. 64\n",
       "100. 63\n",
       "\n",
       "\n"
      ],
      "text/plain": [
       "  [1] 59 58 65 60 60 63 62 61 58 63 64 62 63 62 61 67 62 60 62 61 64 63 61 59 64\n",
       " [26] 63 65 64 62 61 61 58 63 61 62 60 59 63 61 62 63 58 61 62 61 62 64 64 60 58\n",
       " [51] 62 63 63 61 63 62 58 62 63 58 64 65 64 65 61 65 61 62 64 63 60 60 65 65 61\n",
       " [76] 61 60 59 64 61 59 63 60 60 61 65 62 62 63 60 64 62 61 61 61 64 61 60 64 63"
      ]
     },
     "metadata": {},
     "output_type": "display_data"
    }
   ],
   "source": [
    "loan_xgbtree$GG"
   ]
  },
  {
   "cell_type": "code",
   "execution_count": 49,
   "metadata": {},
   "outputs": [],
   "source": [
    "# Profit Calculation from 1000 simulation times\n",
    "\n",
    "profit <- c(loan_xgbtree %>% profit_simu(0.3, 1000), \n",
    "            loan_svm %>% profit_simu(0.3, 1000), \n",
    "            loan_rf %>% profit_simu(0.3, 1000), \n",
    "            loan_knn %>% profit_simu(0.3, 1000), \n",
    "            loan_logit %>% profit_simu(0.3, 1000))\n",
    "\n",
    "profit_df <- data.frame(Profit = profit, \n",
    "                        Model = c(rep(\"XgbTree\", 1000), \n",
    "                                  rep(\"SVM\", 1000), \n",
    "                                  rep(\"RF\", 1000), \n",
    "                                  rep(\"KNN\", 1000), \n",
    "                                  rep(\"Logistic\", 1000)\n",
    "                                 )\n",
    "                       )"
   ]
  },
  {
   "cell_type": "code",
   "execution_count": 50,
   "metadata": {},
   "outputs": [
    {
     "data": {
      "text/html": [
       "<table>\n",
       "<thead><tr><th scope=col>Profit</th><th scope=col>Model</th></tr></thead>\n",
       "<tbody>\n",
       "\t<tr><td>6072775</td><td>XgbTree</td></tr>\n",
       "\t<tr><td>6086358</td><td>XgbTree</td></tr>\n",
       "\t<tr><td>6037586</td><td>XgbTree</td></tr>\n",
       "\t<tr><td>6102285</td><td>XgbTree</td></tr>\n",
       "\t<tr><td>6065468</td><td>XgbTree</td></tr>\n",
       "</tbody>\n",
       "</table>\n"
      ],
      "text/latex": [
       "\\begin{tabular}{r|ll}\n",
       " Profit & Model\\\\\n",
       "\\hline\n",
       "\t 6072775 & XgbTree\\\\\n",
       "\t 6086358 & XgbTree\\\\\n",
       "\t 6037586 & XgbTree\\\\\n",
       "\t 6102285 & XgbTree\\\\\n",
       "\t 6065468 & XgbTree\\\\\n",
       "\\end{tabular}\n"
      ],
      "text/markdown": [
       "\n",
       "| Profit | Model |\n",
       "|---|---|\n",
       "| 6072775 | XgbTree |\n",
       "| 6086358 | XgbTree |\n",
       "| 6037586 | XgbTree |\n",
       "| 6102285 | XgbTree |\n",
       "| 6065468 | XgbTree |\n",
       "\n"
      ],
      "text/plain": [
       "  Profit  Model  \n",
       "1 6072775 XgbTree\n",
       "2 6086358 XgbTree\n",
       "3 6037586 XgbTree\n",
       "4 6102285 XgbTree\n",
       "5 6065468 XgbTree"
      ]
     },
     "metadata": {},
     "output_type": "display_data"
    }
   ],
   "source": [
    "head(profit_df,5)"
   ]
  },
  {
   "cell_type": "code",
   "execution_count": 51,
   "metadata": {},
   "outputs": [
    {
     "data": {
      "text/plain": [
       "\n",
       "\n",
       "|Model    |    Mean|  Median|     Min|     Max|    SD|\n",
       "|:--------|-------:|-------:|-------:|-------:|-----:|\n",
       "|SVM      | 6513828| 6514225| 6286726| 6716445| 68135|\n",
       "|KNN      | 6246711| 6246003| 6027972| 6440565| 66505|\n",
       "|XgbTree  | 6069174| 6068885| 5874187| 6259595| 65746|\n",
       "|RF       | 5977191| 5975220| 5777978| 6152383| 65228|\n",
       "|Logistic | 5925101| 5922345| 5721494| 6105366| 65128|"
      ]
     },
     "metadata": {},
     "output_type": "display_data"
    }
   ],
   "source": [
    "options(warn=-1)\n",
    "profit_df %>% \n",
    "  group_by(Model) %>% \n",
    "  summarise_each(funs(mean, median, min, max, sd), Profit) %>% \n",
    "  ungroup() %>% \n",
    "  arrange(-mean) %>% \n",
    "  mutate_if(is.numeric, function(x) {round(x, 0)}) %>% \n",
    "  knitr::kable(caption = \"Table 3: Simulated Profit Based Monte Carlo Method\n",
    "                            \\nwith Interest Rate is 30% for Test Data Sets\", \n",
    "               col.names = c(\"Model\", \"Mean\", \"Median\", \"Min\", \"Max\", \"SD\"))\n"
   ]
  },
  {
   "cell_type": "code",
   "execution_count": 52,
   "metadata": {},
   "outputs": [],
   "source": [
    "options(warn=-1)\n",
    "profit_df %>% \n",
    "  group_by(Model) %>% \n",
    "  summarise_each(funs(mean, median, min, max, sd), Profit) %>% \n",
    "  ungroup() %>% \n",
    "  arrange(-mean) %>% \n",
    "  mutate_if(is.numeric, function(x) {round(x, 0)}) %>% write.csv(., \"f2.csv\")"
   ]
  },
  {
   "cell_type": "code",
   "execution_count": 53,
   "metadata": {},
   "outputs": [
    {
     "data": {
      "image/png": "[encoded data removed]",
      "text/plain": [
       "plot without title"
      ]
     },
     "metadata": {},
     "output_type": "display_data"
    }
   ],
   "source": [
    "options(repr.plot.width = 8, repr.plot.height = 5)\n",
    "profit_df %>% \n",
    "  ggplot(aes(Model, Profit, fill = Model, color = Model)) +\n",
    "  geom_boxplot(alpha = 0.3, show.legend = FALSE) + \n",
    "  coord_flip() + \n",
    "  labs(x = NULL, y = NULL, \n",
    "       title = \"Simulated Profit Based Monte Carlo Method with Interest Rate is 30% for Test Data Sets\")"
   ]
  },
  {
   "cell_type": "code",
   "execution_count": null,
   "metadata": {},
   "outputs": [],
   "source": []
  },
  {
   "cell_type": "code",
   "execution_count": null,
   "metadata": {},
   "outputs": [],
   "source": []
  },
  {
   "cell_type": "code",
   "execution_count": null,
   "metadata": {},
   "outputs": [],
   "source": []
  },
  {
   "cell_type": "code",
   "execution_count": null,
   "metadata": {},
   "outputs": [],
   "source": []
  }
 ],
 "metadata": {
  "kernelspec": {
   "display_name": "R",
   "language": "R",
   "name": "ir"
  },
  "language_info": {
   "codemirror_mode": "r",
   "file_extension": ".r",
   "mimetype": "text/x-r-source",
   "name": "R",
   "pygments_lexer": "r",
   "version": "3.5.2"
  }
 },
 "nbformat": 4,
 "nbformat_minor": 2
}
